{
 "cells": [
  {
   "cell_type": "code",
   "execution_count": 35,
   "id": "994ace80",
   "metadata": {},
   "outputs": [],
   "source": [
    "import requests\n",
    "from bs4 import BeautifulSoup as bs\n",
    "\n",
    "url = 'https://comic.naver.com/webtoon/weekday'\n",
    "re = requests.get(url)\n",
    "re.raise_for_status()\n",
    "\n",
    "soup = bs(re.text,'html.parser')\n",
    "\n",
    "#print(soup.title)\n",
    "#print(soup.title.get_text())\n",
    "#print(soup.a) \n",
    "#print(soup.a.attrs) \n",
    "#print(soup.a['href']) \n",
    "\n",
    "#print(soup.find('a',attrs={'class':'Nbtn_upload'})) \n",
    "#print(soup.find(attrs={'class':'Nbtn_upload'})) \n",
    "\n",
    "#print(soup.find('li',attrs={'class':'rank01'}))\n",
    "#rank1 = soup.find('li',attrs={'class':'rank01'}) \n",
    "#print(rank1.a) \n",
    "\n",
    "#print(rank1.a.get_text())\n",
    "\n",
    "#print(rank1.next_sibling) \n",
    "#print(rank1.next_sibling.next_sibling)\n",
    "\n",
    "# rank2 = rank1.next_sibling.next_sibling\n",
    "# rank3 = rank2.next_sibling.next_sibling\n",
    "# print(rank3.get_text())\n",
    "\n",
    "# rank2 = rank3.previous_sibling.previous_sibling\n",
    "# print(rank2.a.get_text())\n",
    "\n",
    "# print(rank1.parent)\n",
    "\n",
    "# rank2 = rank1.find_next_sibling('li')\n",
    "# print(rank2.a.get_text())\n",
    "# rank3 = rank2.find_next_sibling('li')\n",
    "# print(rank3.a.get_text())\n",
    "\n",
    "# rank2 = rank3.find_previous_sibling('li')\n",
    "# print(rank2.a.get_text())\n",
    "\n",
    "# print(rank1.find_next_siblings('li'))"
   ]
  },
  {
   "cell_type": "code",
   "execution_count": 34,
   "id": "4dce943e",
   "metadata": {},
   "outputs": [
    {
     "name": "stdout",
     "output_type": "stream",
     "text": [
      "<a href=\"/webtoon/detail?titleId=783769&amp;no=43\" onclick=\"nclk_v2(event,'rnk*p.cont','783769','1')\" title=\"내 남편과 결혼해줘-43화\">내 남편과 결혼해줘-43화</a>\n"
     ]
    }
   ],
   "source": [
    "webtoon = soup.find('a',text='내 남편과 결혼해줘-43화')\n",
    "print(webtoon)"
   ]
  }
 ],
 "metadata": {
  "kernelspec": {
   "display_name": "Python 3.10.4 64-bit",
   "language": "python",
   "name": "python3"
  },
  "language_info": {
   "codemirror_mode": {
    "name": "ipython",
    "version": 3
   },
   "file_extension": ".py",
   "mimetype": "text/x-python",
   "name": "python",
   "nbconvert_exporter": "python",
   "pygments_lexer": "ipython3",
   "version": "3.10.4"
  },
  "vscode": {
   "interpreter": {
    "hash": "4ae0e5bc6173d00f17877fcc72698983beb25e1e91ddb25333d811e0f3f2a0ca"
   }
  }
 },
 "nbformat": 4,
 "nbformat_minor": 5
}
