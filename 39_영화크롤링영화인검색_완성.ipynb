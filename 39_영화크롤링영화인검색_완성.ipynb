{
 "cells": [
  {
   "cell_type": "code",
   "execution_count": 1,
   "metadata": {},
   "outputs": [
    {
     "data": {
      "text/html": [
       "<div>\n",
       "<style scoped>\n",
       "    .dataframe tbody tr th:only-of-type {\n",
       "        vertical-align: middle;\n",
       "    }\n",
       "\n",
       "    .dataframe tbody tr th {\n",
       "        vertical-align: top;\n",
       "    }\n",
       "\n",
       "    .dataframe thead th {\n",
       "        text-align: right;\n",
       "    }\n",
       "</style>\n",
       "<table border=\"1\" class=\"dataframe\">\n",
       "  <thead>\n",
       "    <tr style=\"text-align: right;\">\n",
       "      <th></th>\n",
       "      <th>peopleCd</th>\n",
       "      <th>peopleNm</th>\n",
       "      <th>peopleNmEn</th>\n",
       "      <th>repRoleNm</th>\n",
       "      <th>filmoNames</th>\n",
       "    </tr>\n",
       "  </thead>\n",
       "  <tbody>\n",
       "    <tr>\n",
       "      <th>0</th>\n",
       "      <td>10087253</td>\n",
       "      <td>하정우</td>\n",
       "      <td>HA Jung-woo</td>\n",
       "      <td>배우</td>\n",
       "      <td>피랍|야행|보스턴 1947|백두산|클로젯|걸캅스|PMC: 더 벙커|신과함께-인과 연...</td>\n",
       "    </tr>\n",
       "  </tbody>\n",
       "</table>\n",
       "</div>"
      ],
      "text/plain": [
       "   peopleCd peopleNm   peopleNmEn repRoleNm  \\\n",
       "0  10087253      하정우  HA Jung-woo        배우   \n",
       "\n",
       "                                          filmoNames  \n",
       "0  피랍|야행|보스턴 1947|백두산|클로젯|걸캅스|PMC: 더 벙커|신과함께-인과 연...  "
      ]
     },
     "execution_count": 1,
     "metadata": {},
     "output_type": "execute_result"
    }
   ],
   "source": [
    "import requests\n",
    "import pandas as pd\n",
    "\n",
    "key = '인증키' \n",
    "peopleNm = '하정우'\n",
    "\n",
    "url = 'http://kobis.or.kr/kobisopenapi/webservice/rest/people/searchPeopleList.json?key={}&peopleNm={}'.format(key, peopleNm)\n",
    "\n",
    "response = requests.get(url)\n",
    "r_data = response.json()\n",
    "peopleListResult = pd.DataFrame(r_data['peopleListResult']['peopleList'])\n",
    "peopleListResult"
   ]
  }
 ],
 "metadata": {
  "kernelspec": {
   "display_name": "Python 3.10.4 64-bit",
   "language": "python",
   "name": "python3"
  },
  "language_info": {
   "codemirror_mode": {
    "name": "ipython",
    "version": 3
   },
   "file_extension": ".py",
   "mimetype": "text/x-python",
   "name": "python",
   "nbconvert_exporter": "python",
   "pygments_lexer": "ipython3",
   "version": "3.10.4"
  },
  "orig_nbformat": 4,
  "vscode": {
   "interpreter": {
    "hash": "4ae0e5bc6173d00f17877fcc72698983beb25e1e91ddb25333d811e0f3f2a0ca"
   }
  }
 },
 "nbformat": 4,
 "nbformat_minor": 2
}
