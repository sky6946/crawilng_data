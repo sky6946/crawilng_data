{
 "cells": [
  {
   "cell_type": "code",
   "execution_count": 6,
   "id": "99ee2819",
   "metadata": {},
   "outputs": [],
   "source": [
    "#!pip install requests"
   ]
  },
  {
   "cell_type": "code",
   "execution_count": 11,
   "id": "17be8127",
   "metadata": {},
   "outputs": [
    {
     "name": "stdout",
     "output_type": "stream",
     "text": [
      "조달청, 폭우·폭염 관련 혁신제품 기획전…57개 제품 선봬 https://www.yna.co.kr/view/AKR20220823055800063?input=1195m\n",
      "\n",
      "[오늘 날씨] 전국 곳곳 비 '우산 챙기세요'… 일부 지역은 폭염 http://moneys.mt.co.kr/news/mwView.php?no=2022082214185292698\n",
      "\n",
      "[월드리포트] 최악 폭염 중국, 왜 인공강우로 해결 못하나 https://news.sbs.co.kr/news/endPage.do?news_id=N1006868928&plink=ORI&cooper=NAVER\n",
      "\n",
      "폭염으로 문닫는 中공장…SK하이닉스, 타격받을까 우려 http://news.mk.co.kr/newsRead.php?no=745505&year=2022\n",
      "\n",
      "'더위 그친다'는 처서, 광주·전남 폭염특보 해제 http://www.newsis.com/view/?id=NISX20220823_0001987512&cID=10809&pID=10800\n",
      "\n",
      "[제주날씨] 전 지역 폭염특보 해제.. 열대야는 계속 http://www.jibs.co.kr/news/articles/articlesDetail/25056?feed=na\n",
      "\n",
      "활동가와 40여 명의 시민들 \"부정의한 폭염을 고발한다\" http://www.ohmynews.com/NWS_Web/View/at_pg.aspx?CNTN_CD=A0002859230&CMPT_CD=P0010&utm_source=naver&utm_medium=newsearch&utm_campaign=naver_news\n",
      "\n",
      "중국 쓰촨성, 폭염으로 대학 개학 연기 https://www.yna.co.kr/view/AKR20220823149000097?input=1195m\n",
      "\n",
      "광주·전남 폭염특보 해제…24일까지 최대 50㎜ 비 https://www.news1.kr/articles/4780706\n",
      "\n",
      "[출근길 날씨] 곳곳에 폭염특보…밤에 경기 북부부터 비 https://news.kbs.co.kr/news/view.do?ncd=5537988&ref=A\n",
      "\n"
     ]
    }
   ],
   "source": [
    "import requests\n",
    "from bs4 import BeautifulSoup\n",
    "\n",
    "response = requests.get('https://search.naver.com/search.naver?where=news&sm=tab_jum&query=%ED%8F%AD%EC%97%BC')\n",
    "\n",
    "\n",
    "html = response.text\n",
    "\n",
    "soup = BeautifulSoup(html,'html.parser')\n",
    "\n",
    "links = soup.select('.news_tit')   \n",
    "\n",
    "#print(links)    \n",
    "\n",
    "for link in links: \n",
    "    title = link.text   \n",
    "    url = link.attrs['href']  \n",
    "    print(title, url)\n",
    "    print()"
   ]
  }
 ],
 "metadata": {
  "kernelspec": {
   "display_name": "Python 3 (ipykernel)",
   "language": "python",
   "name": "python3"
  },
  "language_info": {
   "codemirror_mode": {
    "name": "ipython",
    "version": 3
   },
   "file_extension": ".py",
   "mimetype": "text/x-python",
   "name": "python",
   "nbconvert_exporter": "python",
   "pygments_lexer": "ipython3",
   "version": "3.10.4"
  }
 },
 "nbformat": 4,
 "nbformat_minor": 5
}
