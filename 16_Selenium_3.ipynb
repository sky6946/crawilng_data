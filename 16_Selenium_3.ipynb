{
 "cells": [
  {
   "cell_type": "code",
   "execution_count": 31,
   "id": "f4722ebc",
   "metadata": {},
   "outputs": [
    {
     "name": "stderr",
     "output_type": "stream",
     "text": [
      "C:\\Users\\ssong\\AppData\\Local\\Temp\\ipykernel_19648\\1613348497.py:7: DeprecationWarning: executable_path has been deprecated, please pass in a Service object\n",
      "  driver = webdriver.Chrome(path)\n"
     ]
    }
   ],
   "source": [
    "from selenium import webdriver\n",
    "\n",
    "path = 'd:\\home\\chromedriver.exe'\n",
    "url = 'http://www.google.com'\n",
    "\n",
    "driver = webdriver.Chrome(path)\n",
    "\n",
    "driver.get(url)\n",
    "\n",
    "assert\"Google\" in driver.title\n",
    "\n",
    "elem = driver.find_element('name','q')\n",
    "\n",
    "elem.clear()\n",
    "\n",
    "elem.send_keys(\"Selenium\")\n",
    "\n",
    "assert \"No results found.\" not in driver.page_source\n",
    "\n",
    "\n",
    "driver.close()"
   ]
  }
 ],
 "metadata": {
  "kernelspec": {
   "display_name": "Python 3 (ipykernel)",
   "language": "python",
   "name": "python3"
  },
  "language_info": {
   "codemirror_mode": {
    "name": "ipython",
    "version": 3
   },
   "file_extension": ".py",
   "mimetype": "text/x-python",
   "name": "python",
   "nbconvert_exporter": "python",
   "pygments_lexer": "ipython3",
   "version": "3.10.4"
  }
 },
 "nbformat": 4,
 "nbformat_minor": 5
}
