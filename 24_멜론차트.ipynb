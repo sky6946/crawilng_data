{
 "cells": [
  {
   "cell_type": "code",
   "execution_count": 3,
   "id": "2046f151",
   "metadata": {},
   "outputs": [
    {
     "name": "stderr",
     "output_type": "stream",
     "text": [
      "C:\\Users\\ssong\\AppData\\Local\\Temp\\ipykernel_9440\\2617701597.py:3: DeprecationWarning: executable_path has been deprecated, please pass in a Service object\n",
      "  driver = webdriver.Chrome('d:\\home\\chromedriver.exe')\n"
     ]
    }
   ],
   "source": [
    "from selenium import webdriver\n",
    "\n",
    "driver = webdriver.Chrome('d:\\home\\chromedriver.exe')\n",
    "\n",
    "url = 'https://www.melon.com/chart/index.htm'\n",
    "driver.get(url)"
   ]
  },
  {
   "cell_type": "code",
   "execution_count": 5,
   "id": "a4060408",
   "metadata": {},
   "outputs": [],
   "source": [
    "from bs4 import BeautifulSoup\n",
    "html = driver.page_source\n",
    "soup = BeautifulSoup(html, 'html.parser')"
   ]
  },
  {
   "cell_type": "code",
   "execution_count": 6,
   "id": "29cdf523",
   "metadata": {},
   "outputs": [
    {
     "name": "stdout",
     "output_type": "stream",
     "text": [
      "50\n",
      "<tr class=\"lst50\" data-song-no=\"35546497\" id=\"lst50\">\n",
      "<td><div class=\"wrap t_right\"><input class=\"input_check\" name=\"input_check\" title=\"After LIKE 곡 선택\" type=\"checkbox\" value=\"35546497\"/></div></td>\n",
      "<td><div class=\"wrap t_center\"><span class=\"rank\">1</span><span class=\"none\">위</span></div></td>\n",
      "<!-- 차트순위 추가 -->\n",
      "<td><div class=\"wrap\">\n",
      "<span class=\"rank_wrap\" title=\"순위 동일\">\n",
      "<span class=\"bullet_icons rank_static\"><span class=\"none\">순위 동일</span></span>\n",
      "<span class=\"none\">0</span>\n",
      "</span>\n",
      "</div></td>\n",
      "<td><div class=\"wrap\">\n",
      "<a class=\"image_typeAll\" href=\"javascript:melon.link.goAlbumDetail('11034298');\" title=\"After LIKE\">\n",
      "<img alt=\"After LIKE - 페이지 이동\" height=\"60\" onerror=\"WEBPOCIMG.defaultAlbumImg(this);\" src=\"https://cdnimg.melon.co.kr/cm2/album/images/110/34/298/11034298_20220822101843_500.jpg/melon/resize/120/quality/80/optimize\" width=\"60\"/>\n",
      "<span class=\"bg_album_frame\"></span>\n",
      "</a>\n",
      "</div></td>\n",
      "<td><div class=\"wrap\">\n",
      "<a class=\"btn button_icons type03 song_info\" href=\"javascript:melon.link.goSongDetail('35546497');\" title=\"After LIKE 곡정보\"><span class=\"none\">곡정보</span></a>\n",
      "</div></td>\n",
      "<td><div class=\"wrap\">\n",
      "<div class=\"wrap_song_info\">\n",
      "<div class=\"ellipsis rank01\"><span>\n",
      "<a href=\"javascript:melon.play.playSong('1000002721',35546497);\" title=\"After LIKE 재생\">After LIKE</a>\n",
      "</span></div><br/>\n",
      "<div class=\"ellipsis rank02\">\n",
      "<a href=\"javascript:melon.link.goArtistDetail('3055146');\" title=\"IVE (아이브) - 페이지 이동\">IVE (아이브)</a><span class=\"checkEllipsis\" style=\"display: none;\"><a href=\"javascript:melon.link.goArtistDetail('3055146');\" title=\"IVE (아이브) - 페이지 이동\">IVE (아이브)</a></span>\n",
      "</div>\n",
      "</div>\n",
      "</div></td>\n",
      "<td><div class=\"wrap\">\n",
      "<div class=\"wrap_song_info\">\n",
      "<div class=\"ellipsis rank03\">\n",
      "<a href=\"javascript:melon.link.goAlbumDetail('11034298');\" title=\"After LIKE - 페이지 이동\">After LIKE</a>\n",
      "</div>\n",
      "</div>\n",
      "</div></td>\n",
      "<td><div class=\"wrap\">\n",
      "<button class=\"button_etc like\" data-song-menuid=\"1000002721\" data-song-no=\"35546497\" title=\"After LIKE 좋아요\" type=\"button\"><span class=\"odd_span\">좋아요</span>\n",
      "<span class=\"cnt\">\n",
      "<span class=\"none\">총건수</span>\n",
      "100,633</span></button>\n",
      "</div></td>\n",
      "<td><div class=\"wrap t_center\">\n",
      "<button class=\"button_icons play\" onclick=\"melon.play.playSong('1000002721',35546497);\" title=\"듣기\" type=\"button\"><span class=\"none\">듣기</span></button>\n",
      "</div></td>\n",
      "<td><div class=\"wrap t_center\">\n",
      "<button class=\"button_icons scrap\" onclick=\"melon.play.addPlayList('35546497');\" title=\"담기\" type=\"button\"><span class=\"none\">담기</span></button>\n",
      "</div></td>\n",
      "<td><div class=\"wrap t_center\">\n",
      "<button class=\"button_icons download\" onclick=\"melon.buy.goBuyProduct('frm', '35546497', '3C0001', '','0', '1000002721');\" title=\"다운로드\" type=\"button\"><span class=\"none\">다운로드</span></button>\n",
      "</div></td>\n",
      "<td><div class=\"wrap t_center\">\n",
      "<button class=\"button_icons video\" onclick=\"melon.link.goMvDetail('1000002721', '35546497','song');\" title=\"뮤직비디오\" type=\"button\"><span class=\"none\">뮤직비디오</span></button>\n",
      "</div></td>\n",
      "</tr>\n"
     ]
    }
   ],
   "source": [
    "songs = soup.select('#lst50')\n",
    "print(len(songs))\n",
    "print(songs[0])"
   ]
  },
  {
   "cell_type": "code",
   "execution_count": 7,
   "id": "2658eb14",
   "metadata": {},
   "outputs": [],
   "source": [
    "song = songs[0]"
   ]
  },
  {
   "cell_type": "code",
   "execution_count": 8,
   "id": "1d51821f",
   "metadata": {},
   "outputs": [
    {
     "data": {
      "text/plain": [
       "6"
      ]
     },
     "execution_count": 8,
     "metadata": {},
     "output_type": "execute_result"
    }
   ],
   "source": [
    "title = song.select('a')\n",
    "len(title)"
   ]
  },
  {
   "cell_type": "code",
   "execution_count": 9,
   "id": "788ddb0e",
   "metadata": {},
   "outputs": [
    {
     "data": {
      "text/plain": [
       "2"
      ]
     },
     "execution_count": 9,
     "metadata": {},
     "output_type": "execute_result"
    }
   ],
   "source": [
    "title = song.select('span>a')\n",
    "len(title)"
   ]
  },
  {
   "cell_type": "code",
   "execution_count": 10,
   "id": "219e65c5",
   "metadata": {},
   "outputs": [
    {
     "data": {
      "text/plain": [
       "1"
      ]
     },
     "execution_count": 10,
     "metadata": {},
     "output_type": "execute_result"
    }
   ],
   "source": [
    "title = song.select('div.ellipsis.rank01>span>a')\n",
    "len(title)"
   ]
  },
  {
   "cell_type": "code",
   "execution_count": 11,
   "id": "cb6316c5",
   "metadata": {},
   "outputs": [
    {
     "data": {
      "text/plain": [
       "'After LIKE'"
      ]
     },
     "execution_count": 11,
     "metadata": {},
     "output_type": "execute_result"
    }
   ],
   "source": [
    "title = song.select('div.ellipsis.rank01>span>a')[0].text\n",
    "title"
   ]
  },
  {
   "cell_type": "code",
   "execution_count": 12,
   "id": "d271effd",
   "metadata": {},
   "outputs": [
    {
     "data": {
      "text/plain": [
       "1"
      ]
     },
     "execution_count": 12,
     "metadata": {},
     "output_type": "execute_result"
    }
   ],
   "source": [
    "singer = song.select('div.ellipsis.rank02>a')\n",
    "len(singer)"
   ]
  },
  {
   "cell_type": "code",
   "execution_count": 13,
   "id": "6c774009",
   "metadata": {},
   "outputs": [
    {
     "data": {
      "text/plain": [
       "'IVE (아이브)'"
      ]
     },
     "execution_count": 13,
     "metadata": {},
     "output_type": "execute_result"
    }
   ],
   "source": [
    "singer = song.select('div.ellipsis.rank02>a')[0].text\n",
    "singer"
   ]
  },
  {
   "cell_type": "code",
   "execution_count": 14,
   "id": "2e8b53a2",
   "metadata": {},
   "outputs": [
    {
     "name": "stdout",
     "output_type": "stream",
     "text": [
      "1 : After LIKE : IVE (아이브)\n",
      "2 : Attention : NewJeans\n",
      "3 : Pink Venom : BLACKPINK\n",
      "4 : Hype boy : NewJeans\n",
      "5 : FOREVER 1 : 소녀시대 (GIRLS' GENERATION)\n",
      "6 : LOVE DIVE : IVE (아이브)\n",
      "7 : 그때 그 순간 그대로 (그그그) : WSG워너비 (가야G)\n",
      "8 : Cookie : NewJeans\n",
      "9 : 보고싶었어 : WSG워너비 (4FIRE)\n",
      "10 : 사랑은 늘 도망가 : 임영웅\n",
      "11 : SNEAKERS : ITZY (있지)\n",
      "12 : 우리들의 블루스 : 임영웅\n",
      "13 : TOMBOY : (여자)아이들\n",
      "14 : 다시 만날 수 있을까 : 임영웅\n",
      "15 : 그라데이션 : 10CM\n",
      "16 : POP! : 나연 (TWICE)\n",
      "17 : 정이라고 하자 (Feat. 10CM) : BIG Naughty (서동현)\n",
      "18 : 도깨비불 (Illusion) : aespa\n",
      "19 : 사랑인가 봐 : 멜로망스\n",
      "20 : 나의 X에게 : 경서\n",
      "21 : 이제 나만 믿어요 : 임영웅\n",
      "22 : 무지개 : 임영웅\n",
      "23 : That That (prod. & feat. SUGA of BTS) : 싸이 (PSY)\n",
      "24 : 아버지 : 임영웅\n",
      "25 : A bientot : 임영웅\n",
      "26 : 내가 아니라도 : 주호\n",
      "27 : 손이 참 곱던 그대 : 임영웅\n",
      "28 : Girls : aespa\n",
      "29 : 사랑해 진짜 : 임영웅\n",
      "30 : 인생찬가 : 임영웅\n",
      "31 : FEARLESS : LE SSERAFIM (르세라핌)\n",
      "32 : ELEVEN : IVE (아이브)\n",
      "33 : Love story : 볼빨간사춘기\n",
      "34 : 연애편지 : 임영웅\n",
      "35 : 사랑역 : 임영웅\n",
      "36 : 보금자리 : 임영웅\n",
      "37 : 사랑해요 그대를 : 임영웅\n",
      "38 : 사랑한다고 말해줘 : 탑현\n",
      "39 : 해요 (2022) : #안녕\n",
      "40 : 내 기쁨은 너가 벤틀리를 끄는 거야 : 김승민\n",
      "41 : LOVE me : BE'O (비오)\n",
      "42 : 통화연결음 : 보라미유\n",
      "43 : 봄여름가을겨울 (Still Life) : BIGBANG (빅뱅)\n",
      "44 : 취중고백 : 김민석 (멜로망스)\n",
      "45 : That's Hilarious : Charlie Puth\n",
      "46 : Talk that Talk : TWICE (트와이스)\n",
      "47 : 너의 모든 순간 : 성시경\n",
      "48 : 다정히 내 이름을 부르면 : 경서예지\n",
      "49 : 새벽에 걸려온 너의 전화는 : 한동근\n",
      "50 : STAY : The Kid LAROI\n"
     ]
    }
   ],
   "source": [
    "for song in songs:\n",
    "    title = song.select('div.ellipsis.rank01>span>a')[0].text\n",
    "    singer = song.select('div.ellipsis.rank02>a')[0].text\n",
    "    print(num, title, singer, sep=' : ')\n",
    "    \n",
    "    num += 1"
   ]
  }
 ],
 "metadata": {
  "kernelspec": {
   "display_name": "Python 3 (ipykernel)",
   "language": "python",
   "name": "python3"
  },
  "language_info": {
   "codemirror_mode": {
    "name": "ipython",
    "version": 3
   },
   "file_extension": ".py",
   "mimetype": "text/x-python",
   "name": "python",
   "nbconvert_exporter": "python",
   "pygments_lexer": "ipython3",
   "version": "3.10.4"
  },
  "vscode": {
   "interpreter": {
    "hash": "4ae0e5bc6173d00f17877fcc72698983beb25e1e91ddb25333d811e0f3f2a0ca"
   }
  }
 },
 "nbformat": 4,
 "nbformat_minor": 5
}
