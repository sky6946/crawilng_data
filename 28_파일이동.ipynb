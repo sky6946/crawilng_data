{
 "cells": [
  {
   "cell_type": "code",
   "execution_count": 15,
   "id": "3571e6e4",
   "metadata": {},
   "outputs": [
    {
     "name": "stdout",
     "output_type": "stream",
     "text": [
      "d:/img/ 여름\n"
     ]
    }
   ],
   "source": [
    "import shutil\n",
    "import os\n",
    "\n",
    "\n",
    "dir1 = \"d:/img/\"\n",
    "dir2 = \"d:/img/여름/\"\n",
    "\n",
    "if not os.path.isdir(dir2):    \n",
    "    os.mkdir(dir2)\n",
    "\n",
    "files = os.listdir(dir1) \n",
    "print(dir1,files[0])\n",
    "\n",
    "for file in files:\n",
    "    shutil.move(dir1 + file, dir2 ) "
   ]
  }
 ],
 "metadata": {
  "kernelspec": {
   "display_name": "Python 3 (ipykernel)",
   "language": "python",
   "name": "python3"
  },
  "language_info": {
   "codemirror_mode": {
    "name": "ipython",
    "version": 3
   },
   "file_extension": ".py",
   "mimetype": "text/x-python",
   "name": "python",
   "nbconvert_exporter": "python",
   "pygments_lexer": "ipython3",
   "version": "3.10.4"
  }
 },
 "nbformat": 4,
 "nbformat_minor": 5
}
