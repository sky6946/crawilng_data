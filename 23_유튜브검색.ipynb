{
 "cells": [
  {
   "cell_type": "code",
   "execution_count": 24,
   "id": "513742bc",
   "metadata": {},
   "outputs": [
    {
     "name": "stderr",
     "output_type": "stream",
     "text": [
      "C:\\Users\\ssong\\AppData\\Local\\Temp\\ipykernel_2772\\2318553144.py:4: DeprecationWarning: executable_path has been deprecated, please pass in a Service object\n",
      "  driver = webdriver.Chrome('d:\\home\\chromedriver.exe')\n"
     ]
    }
   ],
   "source": [
    "from selenium import webdriver\n",
    "import time\n",
    "\n",
    "driver = webdriver.Chrome('d:\\home\\chromedriver.exe')\n",
    "driver.get('https://www.youtube.com')\n",
    "\n",
    "time.sleep(3)\n",
    "\n",
    "\n",
    "search = driver.find_element('name','search_query')\n",
    "\n",
    "\n",
    "search.send_keys(\"올리버쌤\")\n",
    "time.sleep(1)\n",
    "\n",
    "search.submit()"
   ]
  }
 ],
 "metadata": {
  "kernelspec": {
   "display_name": "Python 3 (ipykernel)",
   "language": "python",
   "name": "python3"
  },
  "language_info": {
   "codemirror_mode": {
    "name": "ipython",
    "version": 3
   },
   "file_extension": ".py",
   "mimetype": "text/x-python",
   "name": "python",
   "nbconvert_exporter": "python",
   "pygments_lexer": "ipython3",
   "version": "3.10.4"
  }
 },
 "nbformat": 4,
 "nbformat_minor": 5
}
