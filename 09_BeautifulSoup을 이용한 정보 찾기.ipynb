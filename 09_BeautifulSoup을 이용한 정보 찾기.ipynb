{
 "cells": [
  {
   "cell_type": "code",
   "execution_count": 38,
   "id": "d9c87654",
   "metadata": {},
   "outputs": [],
   "source": [
    "#!pip list"
   ]
  },
  {
   "cell_type": "code",
   "execution_count": 12,
   "id": "51608dcc",
   "metadata": {},
   "outputs": [],
   "source": [
    "#!pip install bs4\n",
    "\n",
    "html = '''\n",
    "<html>\n",
    "    <head>\n",
    "        <title>HTML연습2</title>\n",
    "    </head>\n",
    "    <body>\n",
    "        <h1>우리동네시장</h1>\n",
    "            <div class='sale'>\n",
    "                <p id='fruits1' class='fruits'>\n",
    "                    <span class='name'>바나나</span>\n",
    "                    <span class='price'>3000원</span>\n",
    "                    <span class='inventory'>500개</span>\n",
    "                    <span class='store'>가나다상회</span>\n",
    "                    <a href='https://www.naver.com'>네이버</a>\n",
    "                </p>\n",
    "            </div>\n",
    "            <div class = 'prepare'>\n",
    "                <p id='fruits2' class='fruits'>\n",
    "                    <span class = 'name'>파인애플</span>\n",
    "                    <span class='price'>5000원</span>\n",
    "                    <span class='store'>푸릇푸릇</span>\n",
    "                    <a href='https://www.google.com'>구글</a>\n",
    "                </p>\n",
    "            </div>\n",
    "    </body>\n",
    "</html>\n",
    "\n",
    "'''"
   ]
  },
  {
   "cell_type": "code",
   "execution_count": 2,
   "id": "19655a18",
   "metadata": {},
   "outputs": [],
   "source": [
    "from bs4 import BeautifulSoup as bs \n",
    "\n",
    "soup = bs(html,'html.parser')"
   ]
  },
  {
   "cell_type": "code",
   "execution_count": 3,
   "id": "b40b4973",
   "metadata": {},
   "outputs": [],
   "source": [
    "tags_span = soup.select('span')  \n",
    "tags_p = soup.select('p') \n",
    "ids_fruits1 = soup.select('#fruits1')\n",
    "class_price = soup.select('.price') \n",
    "\n",
    "tags_span_class_price = soup.select('span.price') "
   ]
  },
  {
   "cell_type": "code",
   "execution_count": 5,
   "id": "dff19850",
   "metadata": {},
   "outputs": [
    {
     "name": "stdout",
     "output_type": "stream",
     "text": [
      "[<span class=\"name\">바나나</span>, <span class=\"name\">파인애플</span>]\n"
     ]
    }
   ],
   "source": [
    "tags_name = soup.select('span.name')\n",
    "print(tags_name)"
   ]
  },
  {
   "cell_type": "code",
   "execution_count": 8,
   "id": "2e6c35c9",
   "metadata": {},
   "outputs": [
    {
     "name": "stdout",
     "output_type": "stream",
     "text": [
      "[<span class=\"name\">바나나</span>]\n"
     ]
    }
   ],
   "source": [
    "tags_banana1 = soup.select('#fruist1>span.name')\n",
    "print(tags_banana1)"
   ]
  },
  {
   "cell_type": "code",
   "execution_count": 11,
   "id": "4f5a8657",
   "metadata": {},
   "outputs": [
    {
     "name": "stdout",
     "output_type": "stream",
     "text": [
      "[<span class=\"name\">바나나</span>]\n",
      "[<span class=\"name\">바나나</span>]\n"
     ]
    }
   ],
   "source": [
    "tags_banana2 = soup.select('div.sale>#fruit1>span.name')\n",
    "\n",
    "tags_banana3 = soup.select('div.sale span.name')\n",
    "print(tags_banana2)\n",
    "print(tags_banana3)"
   ]
  },
  {
   "cell_type": "code",
   "execution_count": 15,
   "id": "32356db0",
   "metadata": {},
   "outputs": [
    {
     "name": "stdout",
     "output_type": "stream",
     "text": [
      "<span class=\"name\">바나나</span>\n"
     ]
    }
   ],
   "source": [
    "tags = soup.select('span.name')\n",
    "tag_1 = tags[0]  \n",
    "print(tag_1)"
   ]
  },
  {
   "cell_type": "code",
   "execution_count": 32,
   "id": "31dc121a",
   "metadata": {},
   "outputs": [
    {
     "name": "stdout",
     "output_type": "stream",
     "text": [
      "<span class=\"name\">바나나</span>\n",
      "<span class=\"name\">파인애플</span>\n"
     ]
    }
   ],
   "source": [
    "tags = soup.select('span.name')\n",
    "\n",
    "for tag in tags:   \n",
    "    print(tag)"
   ]
  },
  {
   "cell_type": "code",
   "execution_count": 36,
   "id": "e083b076",
   "metadata": {},
   "outputs": [
    {
     "name": "stdout",
     "output_type": "stream",
     "text": [
      "파인애플\n",
      "['name']\n"
     ]
    }
   ],
   "source": [
    "content = tag.text   \n",
    "attribute = tag['class']   \n",
    "print(content)\n",
    "print(attribute)\n",
    "\n",
    "#print(soup.class.attrs)"
   ]
  },
  {
   "cell_type": "code",
   "execution_count": 37,
   "id": "451846d8",
   "metadata": {},
   "outputs": [
    {
     "name": "stdout",
     "output_type": "stream",
     "text": [
      "네이버\n",
      "https://www.naver.com\n"
     ]
    }
   ],
   "source": [
    "tags = soup.select('a')   \n",
    "tag = tags[0]             \n",
    "content = tag.text        \n",
    "print(content)\n",
    "link = tag['href']       \n",
    "print(link)"
   ]
  }
 ],
 "metadata": {
  "kernelspec": {
   "display_name": "Python 3.10.4 64-bit",
   "language": "python",
   "name": "python3"
  },
  "language_info": {
   "codemirror_mode": {
    "name": "ipython",
    "version": 3
   },
   "file_extension": ".py",
   "mimetype": "text/x-python",
   "name": "python",
   "nbconvert_exporter": "python",
   "pygments_lexer": "ipython3",
   "version": "3.10.4"
  },
  "vscode": {
   "interpreter": {
    "hash": "4ae0e5bc6173d00f17877fcc72698983beb25e1e91ddb25333d811e0f3f2a0ca"
   }
  }
 },
 "nbformat": 4,
 "nbformat_minor": 5
}
