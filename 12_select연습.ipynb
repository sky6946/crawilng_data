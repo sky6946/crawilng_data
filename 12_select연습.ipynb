{
 "cells": [
  {
   "cell_type": "code",
   "execution_count": 1,
   "id": "64393ad4",
   "metadata": {},
   "outputs": [],
   "source": [
    "html = '''\n",
    "<html>\n",
    "    <head>\n",
    "        <title>HTML연습2</title>\n",
    "    </head>\n",
    "    <body>\n",
    "        <h1>우리동네시장</h1>\n",
    "            <div class='sale'>\n",
    "                <p id='fruits1' class='fruits'>\n",
    "                    <span class='name'>바나나</span>\n",
    "                    <span class='price'>3000원</span>\n",
    "                    <span class='inventory'>500개</span>\n",
    "                    <span class='store'>가나다상회</span>\n",
    "                    <a href='https://www.naver.com'>네이버</a>\n",
    "                </p>\n",
    "            </div>\n",
    "            <div class = 'prepare'>\n",
    "                <p id='fruits2' class='fruits'>\n",
    "                    <span class = 'name'>파인애플</span>\n",
    "                    <a href='https://www.daum.net'>다음</a>\n",
    "                </p>\n",
    "            </div>\n",
    "    </body>\n",
    "</html>\n",
    "\n",
    "'''\n",
    "\n",
    "from bs4 import BeautifulSoup as bs"
   ]
  },
  {
   "cell_type": "code",
   "execution_count": 2,
   "id": "4a4449b5",
   "metadata": {},
   "outputs": [
    {
     "data": {
      "text/plain": [
       "[<p class=\"fruits\" id=\"fruits1\">\n",
       " <span class=\"name\">바나나</span>\n",
       " <span class=\"price\">3000원</span>\n",
       " <span class=\"inventory\">500개</span>\n",
       " <span class=\"store\">가나다상회</span>\n",
       " <a href=\"https://www.naver.com\">네이버</a>\n",
       " </p>,\n",
       " <p class=\"fruits\" id=\"fruits2\">\n",
       " <span class=\"name\">파인애플</span>\n",
       " <a href=\"https://www.daum.net\">다음</a>\n",
       " </p>]"
      ]
     },
     "execution_count": 2,
     "metadata": {},
     "output_type": "execute_result"
    }
   ],
   "source": [
    "soup = bs(html,'html.parser')\n",
    "soup.select('p')"
   ]
  },
  {
   "cell_type": "code",
   "execution_count": 3,
   "id": "2e360de7",
   "metadata": {},
   "outputs": [
    {
     "data": {
      "text/plain": [
       "[<span class=\"name\">바나나</span>,\n",
       " <span class=\"price\">3000원</span>,\n",
       " <span class=\"inventory\">500개</span>,\n",
       " <span class=\"store\">가나다상회</span>,\n",
       " <span class=\"name\">파인애플</span>]"
      ]
     },
     "execution_count": 3,
     "metadata": {},
     "output_type": "execute_result"
    }
   ],
   "source": [
    "soup.select('div>p>span')"
   ]
  },
  {
   "cell_type": "code",
   "execution_count": 4,
   "id": "91c9739e",
   "metadata": {},
   "outputs": [
    {
     "data": {
      "text/plain": [
       "[<span class=\"store\">가나다상회</span>]"
      ]
     },
     "execution_count": 4,
     "metadata": {},
     "output_type": "execute_result"
    }
   ],
   "source": [
    "soup.select('p.fruits>span.store')"
   ]
  },
  {
   "cell_type": "code",
   "execution_count": 5,
   "id": "d0184450",
   "metadata": {},
   "outputs": [
    {
     "data": {
      "text/plain": [
       "[<span class=\"name\">바나나</span>,\n",
       " <span class=\"price\">3000원</span>,\n",
       " <span class=\"inventory\">500개</span>,\n",
       " <span class=\"store\">가나다상회</span>,\n",
       " <span class=\"name\">파인애플</span>]"
      ]
     },
     "execution_count": 5,
     "metadata": {},
     "output_type": "execute_result"
    }
   ],
   "source": [
    "soup.select('div span')"
   ]
  },
  {
   "cell_type": "code",
   "execution_count": 6,
   "id": "7d1ca72a",
   "metadata": {},
   "outputs": [
    {
     "data": {
      "text/plain": [
       "[<span class=\"store\">가나다상회</span>]"
      ]
     },
     "execution_count": 6,
     "metadata": {},
     "output_type": "execute_result"
    }
   ],
   "source": [
    "soup.select('#fruits1>span.store')"
   ]
  },
  {
   "cell_type": "code",
   "execution_count": 7,
   "id": "1b1f39e2",
   "metadata": {},
   "outputs": [
    {
     "data": {
      "text/plain": [
       "[<a href=\"https://www.naver.com\">네이버</a>,\n",
       " <a href=\"https://www.daum.net\">다음</a>]"
      ]
     },
     "execution_count": 7,
     "metadata": {},
     "output_type": "execute_result"
    }
   ],
   "source": [
    "soup.select('a[href]')"
   ]
  },
  {
   "cell_type": "code",
   "execution_count": 9,
   "id": "0cdaa591",
   "metadata": {},
   "outputs": [
    {
     "data": {
      "text/plain": [
       "<a href=\"https://www.naver.com\">네이버</a>"
      ]
     },
     "execution_count": 9,
     "metadata": {},
     "output_type": "execute_result"
    }
   ],
   "source": [
    "soup.select('a[href]')[0]"
   ]
  }
 ],
 "metadata": {
  "kernelspec": {
   "display_name": "Python 3 (ipykernel)",
   "language": "python",
   "name": "python3"
  },
  "language_info": {
   "codemirror_mode": {
    "name": "ipython",
    "version": 3
   },
   "file_extension": ".py",
   "mimetype": "text/x-python",
   "name": "python",
   "nbconvert_exporter": "python",
   "pygments_lexer": "ipython3",
   "version": "3.10.4"
  }
 },
 "nbformat": 4,
 "nbformat_minor": 5
}
