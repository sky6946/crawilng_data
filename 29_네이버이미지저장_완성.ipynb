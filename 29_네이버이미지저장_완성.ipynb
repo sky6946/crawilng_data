{
 "cells": [
  {
   "cell_type": "code",
   "execution_count": 2,
   "id": "a4132f50",
   "metadata": {},
   "outputs": [],
   "source": [
    "from bs4 import BeautifulSoup as bs\n",
    "from pprint import pprint\n",
    "import requests, re, os\n",
    "from urllib.request import urlretrieve \n",
    "\n",
    "headers = {'User-Agent' : 'Mozilla/5.0 (Windows NT 10.0; Win64; x64) AppleWebKit/537.36 (KHTML, like Gecko) Chrome/105.0.0.0 Safari/537.36'}\n",
    "url = \"https://comic.naver.com/webtoon/weekday\"\n",
    "\n",
    "re = requests.get(url)\n",
    "html = re.text\n",
    "soup = bs(html, 'html.parser')\n",
    "\n",
    "img_src = soup.select('div.thumb > a > img')\n",
    "\n",
    "img_src[0]['src']\n",
    "\n",
    "img_list=[]\n",
    "\n",
    "\n",
    "import os\n",
    " \n",
    "img_folder_path = 'D:/img' \n",
    " \n",
    "if not os.path.isdir(img_folder_path):  \n",
    "    os.mkdir(img_folder_path)\n",
    "\n",
    "imgNum = 1\n",
    "\n",
    "for i in img_src:\n",
    "    img_src1 = i['src']\n",
    "    save='D:/img/'+str(imgNum)+'.jpg'\n",
    "    urlretrieve(img_src1,save)\n",
    "    imgNum += 1\n",
    "\n",
    "len(img_list)\n",
    "\n",
    "os.chdir('..') "
   ]
  },
  {
   "cell_type": "code",
   "execution_count": null,
   "id": "07f8b1ab",
   "metadata": {},
   "outputs": [],
   "source": []
  }
 ],
 "metadata": {
  "kernelspec": {
   "display_name": "Python 3.10.4 64-bit",
   "language": "python",
   "name": "python3"
  },
  "language_info": {
   "codemirror_mode": {
    "name": "ipython",
    "version": 3
   },
   "file_extension": ".py",
   "mimetype": "text/x-python",
   "name": "python",
   "nbconvert_exporter": "python",
   "pygments_lexer": "ipython3",
   "version": "3.10.4"
  },
  "vscode": {
   "interpreter": {
    "hash": "4ae0e5bc6173d00f17877fcc72698983beb25e1e91ddb25333d811e0f3f2a0ca"
   }
  }
 },
 "nbformat": 4,
 "nbformat_minor": 5
}
