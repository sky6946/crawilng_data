{
 "cells": [
  {
   "cell_type": "code",
   "execution_count": 1,
   "id": "fb41df09",
   "metadata": {},
   "outputs": [],
   "source": [
    "import pandas as pd\n",
    "import numpy as np\n",
    "\n",
    "import folium\n",
    "\n",
    "from bs4 import BeautifulSoup as bs\n",
    "\n",
    "from selenium import webdriver\n",
    "\n",
    "from selenium.webdriver.common.by import By\n",
    "from selenium.webdriver.support.ui import WebDriverWait\n",
    "from selenium.webdriver.support import expected_conditions as EC"
   ]
  },
  {
   "cell_type": "code",
   "execution_count": null,
   "id": "18a2cd7e",
   "metadata": {},
   "outputs": [],
   "source": [
    "chrome_options = webdriver.ChromeOptions()   \n",
    "\n",
    "driver = webdriver.Chrome('./chromedriver.exe', options = chrome_options)\n",
    "driver.implicitly_wait(10) \n",
    "\n",
    "starbucks_url = 'https://www.starbucks.co.kr/store/store_map.do?disp=locale'\n",
    "driver.get(starbucks_url)  \n",
    "driver.maximize_window()"
   ]
  },
  {
   "cell_type": "code",
   "execution_count": null,
   "id": "26df0d3a",
   "metadata": {},
   "outputs": [],
   "source": [
    "starbucks_busan_css = \"#container > div > form > fieldset > div > section > article.find_store_cont > article > article:nth-child(4) > div.loca_step1 > div.loca_step1_cont > ul > li:nth-child(6) > a\"\n",
    "\n",
    "WebDriverWait(driver, 5).until(EC.presence_of_element_located((By.CSS_SELECTOR, starbucks_busan_css))).click()"
   ]
  },
  {
   "cell_type": "code",
   "execution_count": null,
   "id": "a4f524eb",
   "metadata": {},
   "outputs": [],
   "source": [
    "starbucks_busan_all_css = \"#mCSB_2_container > ul > li:nth-child(1) > a\"\n",
    "WebDriverWait(driver, 5).until(EC.presence_of_element_located((By.CSS_SELECTOR, starbucks_busan_all_css))).click()"
   ]
  },
  {
   "cell_type": "code",
   "execution_count": null,
   "id": "58b68620",
   "metadata": {},
   "outputs": [],
   "source": [
    "html = driver.page_source\n",
    "soup = bs(html,'html.parser')\n",
    "#soup"
   ]
  },
  {
   "cell_type": "code",
   "execution_count": null,
   "id": "5e080ad8",
   "metadata": {},
   "outputs": [],
   "source": [
    "container = soup.find('div', id='mCSB_3_container')\n",
    "li_all = container.find_all('li')\n",
    "#li_all[0]"
   ]
  },
  {
   "cell_type": "code",
   "execution_count": null,
   "id": "69b6b280",
   "metadata": {},
   "outputs": [],
   "source": [
    "starbucks_data = []\n",
    "\n",
    "for li in li_all:\n",
    "    name = li.find('strong').text.strip()\n",
    "    address = li.find('p').text.strip().replace('1522-3232', '')\n",
    "    gu = sb_addr.split(' ')[1] \n",
    "    \n",
    "    each = {\n",
    "        '매장이름' : name, '주소' : address, '구' : gu, '브랜드' : '스타벅스'\n",
    "    }\n",
    "    starbucks_data.append(each)"
   ]
  },
  {
   "cell_type": "code",
   "execution_count": null,
   "id": "d802bdfa",
   "metadata": {},
   "outputs": [],
   "source": [
    "len(starbucks_data) "
   ]
  },
  {
   "cell_type": "code",
   "execution_count": null,
   "id": "2122f3dd",
   "metadata": {},
   "outputs": [],
   "source": [
    "df_starbucks = pd.DataFrame(starbucks_data)\n",
    "df_starbucks.tail()"
   ]
  },
  {
   "cell_type": "code",
   "execution_count": null,
   "id": "bc057d2d",
   "metadata": {},
   "outputs": [],
   "source": []
  }
 ],
 "metadata": {
  "kernelspec": {
   "display_name": "Python 3 (ipykernel)",
   "language": "python",
   "name": "python3"
  },
  "language_info": {
   "codemirror_mode": {
    "name": "ipython",
    "version": 3
   },
   "file_extension": ".py",
   "mimetype": "text/x-python",
   "name": "python",
   "nbconvert_exporter": "python",
   "pygments_lexer": "ipython3",
   "version": "3.10.4"
  }
 },
 "nbformat": 4,
 "nbformat_minor": 5
}
