{
 "cells": [
  {
   "cell_type": "code",
   "execution_count": 6,
   "id": "0ea5aad4",
   "metadata": {},
   "outputs": [
    {
     "name": "stdout",
     "output_type": "stream",
     "text": [
      "<title id=\"browserTitleArea\">네이버 뉴스</title>\n",
      "네이버 뉴스\n"
     ]
    }
   ],
   "source": [
    "import requests\n",
    "from bs4 import BeautifulSoup as bs\n",
    "\n",
    "url = 'https://news.naver.com/'\n",
    "re = requests.get(url)\n",
    "re.raise_for_status() \n",
    "\n",
    "soup = bs(re.text, 'html.parser') \n",
    "print(soup.title) \n",
    "print(soup.title.get_text()) "
   ]
  }
 ],
 "metadata": {
  "kernelspec": {
   "display_name": "Python 3.10.4 64-bit",
   "language": "python",
   "name": "python3"
  },
  "language_info": {
   "codemirror_mode": {
    "name": "ipython",
    "version": 3
   },
   "file_extension": ".py",
   "mimetype": "text/x-python",
   "name": "python",
   "nbconvert_exporter": "python",
   "pygments_lexer": "ipython3",
   "version": "3.10.4"
  },
  "vscode": {
   "interpreter": {
    "hash": "4ae0e5bc6173d00f17877fcc72698983beb25e1e91ddb25333d811e0f3f2a0ca"
   }
  }
 },
 "nbformat": 4,
 "nbformat_minor": 5
}
