{
 "cells": [
  {
   "cell_type": "code",
   "execution_count": 38,
   "id": "3f0b2ec2",
   "metadata": {},
   "outputs": [
    {
     "name": "stderr",
     "output_type": "stream",
     "text": [
      "C:\\Users\\ssong\\AppData\\Local\\Temp\\ipykernel_5800\\3270470899.py:6: DeprecationWarning: executable_path has been deprecated, please pass in a Service object\n",
      "  driver = webdriver.Chrome('d:\\home\\chromedriver.exe')\n"
     ]
    }
   ],
   "source": [
    "from selenium import webdriver\n",
    "\n",
    "driver = webdriver.Chrome('d:\\home\\chromedriver.exe')\n",
    "# 네이버 URL\n",
    "url = \"https:naver.com\"\n",
    "\n",
    "# 검색할 내용\n",
    "keyword = \"셀레니움 웹크롤링\"\n",
    "\n",
    "\n",
    "# 웹드라이버 열기\n",
    "driver.get(url)\n",
    "\n",
    "# 검색 창에 keyword 입력\n",
    "driver.find_element('id','query').send_keys(keyword)\n",
    "# 검색 버튼 클릭하기기\n",
    "driver.find_element('id', 'search_btn').click()"
   ]
  }
 ],
 "metadata": {
  "kernelspec": {
   "display_name": "Python 3 (ipykernel)",
   "language": "python",
   "name": "python3"
  },
  "language_info": {
   "codemirror_mode": {
    "name": "ipython",
    "version": 3
   },
   "file_extension": ".py",
   "mimetype": "text/x-python",
   "name": "python",
   "nbconvert_exporter": "python",
   "pygments_lexer": "ipython3",
   "version": "3.10.4"
  }
 },
 "nbformat": 4,
 "nbformat_minor": 5
}
