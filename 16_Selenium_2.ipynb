{
 "cells": [
  {
   "cell_type": "code",
   "execution_count": 8,
   "id": "2c90bde9",
   "metadata": {},
   "outputs": [
    {
     "name": "stderr",
     "output_type": "stream",
     "text": [
      "C:\\Users\\ssong\\AppData\\Local\\Temp\\ipykernel_18416\\1737872198.py:5: DeprecationWarning: executable_path has been deprecated, please pass in a Service object\n",
      "  driver = webdriver.Chrome(path)\n"
     ]
    }
   ],
   "source": [
    "from selenium import webdriver\n",
    "\n",
    "path = 'd:\\home\\chromedriver.exe'\n",
    "url = 'http://www.google.com'\n",
    "driver = webdriver.Chrome(path)\n",
    "driver.get(url)\n",
    "\n"
   ]
  },
  {
   "cell_type": "code",
   "execution_count": 13,
   "id": "47b094fd",
   "metadata": {},
   "outputs": [],
   "source": [
    "html=driver.page_source "
   ]
  },
  {
   "cell_type": "code",
   "execution_count": 14,
   "id": "df78f8ab",
   "metadata": {},
   "outputs": [],
   "source": [
    "with open('html_google.html', 'w') as f:\n",
    "          f.write(html)"
   ]
  }
 ],
 "metadata": {
  "kernelspec": {
   "display_name": "Python 3.10.4 64-bit",
   "language": "python",
   "name": "python3"
  },
  "language_info": {
   "codemirror_mode": {
    "name": "ipython",
    "version": 3
   },
   "file_extension": ".py",
   "mimetype": "text/x-python",
   "name": "python",
   "nbconvert_exporter": "python",
   "pygments_lexer": "ipython3",
   "version": "3.10.4"
  },
  "vscode": {
   "interpreter": {
    "hash": "4ae0e5bc6173d00f17877fcc72698983beb25e1e91ddb25333d811e0f3f2a0ca"
   }
  }
 },
 "nbformat": 4,
 "nbformat_minor": 5
}
