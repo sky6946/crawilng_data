{
 "cells": [
  {
   "cell_type": "code",
   "execution_count": null,
   "id": "3a2b3694",
   "metadata": {},
   "outputs": [],
   "source": [
    "from wordcloud import WordCloud\n",
    "import matplotlib.pyplot as plt\n",
    "from collections import Counter\n",
    "from konlpy.tag import Okt\n",
    "from PIL import Image\n",
    "import numpy as np\n",
    "import konlpy\n",
    "from konlpy.corpus import kolaw\n",
    "kolaw.fileids()"
   ]
  },
  {
   "cell_type": "code",
   "execution_count": null,
   "id": "1e3945cb",
   "metadata": {},
   "outputs": [],
   "source": [
    "law = kolaw.open('constitution.txt').read()\n",
    "law"
   ]
  },
  {
   "cell_type": "code",
   "execution_count": null,
   "id": "7412e0c2",
   "metadata": {},
   "outputs": [],
   "source": [
    "okt = Okt()\n",
    "# 명사만 추출\n",
    "nouns = okt.nouns(law) \n",
    "\n",
    "# 단어의 길이가 1개인 것은 제외\n",
    "# words = [n for n in nouns if len(n) > 1]\n",
    "\n",
    "words = []\n",
    "for n in nouns:\n",
    "    if len(n)>1:\n",
    "        words.append(n)\n",
    "\n",
    "# 위에서 얻은 words를 처리하여 단어별 빈도수 형태의 딕셔너리 데이터를 구함\n",
    "c = Counter(words) \n",
    "c"
   ]
  },
  {
   "cell_type": "markdown",
   "id": "ce23878b",
   "metadata": {},
   "source": [
    "### 한글로 워드 클라우드 시각화"
   ]
  },
  {
   "cell_type": "code",
   "execution_count": null,
   "id": "e44cb584",
   "metadata": {},
   "outputs": [],
   "source": [
    "wc = WordCloud(font_path='malgun', width=400, height=400, scale=2.0, max_font_size=250)\n",
    "gen = wc.generate_from_frequencies(c)\n",
    "plt.figure()\n",
    "#plt.axis('off')\n",
    "plt.imshow(gen)"
   ]
  },
  {
   "cell_type": "markdown",
   "id": "3c11d6a4",
   "metadata": {},
   "source": [
    "### 원하는 이미지로 워드클라우드 생성하기"
   ]
  },
  {
   "cell_type": "code",
   "execution_count": null,
   "id": "bd770b41",
   "metadata": {},
   "outputs": [],
   "source": [
    "img = Image.open('SouthKorea.jpg')\n",
    "img_array = np.array(img)\n",
    "\n",
    "wc = WordCloud(font_path='malgun', \n",
    "               background_color='white',\n",
    "               mask=img_array)\n",
    "gen = wc.generate_from_frequencies(c)\n",
    "\n",
    "plt.figure(figsize=(5,5))\n",
    "plt.imshow(wc,interpolation='bilinear')\n",
    "plt.imshow(gen)\n",
    "\n",
    "plt.axis('off')\n",
    "plt.savefig('test.png')"
   ]
  }
 ],
 "metadata": {
  "kernelspec": {
   "display_name": "Python 3 (ipykernel)",
   "language": "python",
   "name": "python3"
  },
  "language_info": {
   "codemirror_mode": {
    "name": "ipython",
    "version": 3
   },
   "file_extension": ".py",
   "mimetype": "text/x-python",
   "name": "python",
   "nbconvert_exporter": "python",
   "pygments_lexer": "ipython3",
   "version": "3.10.4"
  }
 },
 "nbformat": 4,
 "nbformat_minor": 5
}
