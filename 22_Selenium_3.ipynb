{
 "cells": [
  {
   "cell_type": "code",
   "execution_count": 31,
   "id": "f4722ebc",
   "metadata": {},
   "outputs": [
    {
     "name": "stderr",
     "output_type": "stream",
     "text": [
      "C:\\Users\\ssong\\AppData\\Local\\Temp\\ipykernel_19648\\1613348497.py:7: DeprecationWarning: executable_path has been deprecated, please pass in a Service object\n",
      "  driver = webdriver.Chrome(path)\n"
     ]
    }
   ],
   "source": [
    "from selenium import webdriver\n",
    "\n",
    "path = 'd:\\home\\chromedriver.exe'\n",
    "url = 'http://www.google.com'\n",
    "\n",
    "#selenium의 webdriver로 크롬 브라우저를 실행한다\n",
    "driver = webdriver.Chrome(path)\n",
    "\n",
    "#\"Google\"에 접속한다\n",
    "driver.get(url)\n",
    "\n",
    "#페이지의 제목을 체크하여 'Google'에 제대로 접속했는지 확인한다\n",
    "assert\"Google\" in driver.title\n",
    "#assert \"NAVER\" in driver.title \n",
    "\n",
    "#검색 입력 부분에 커서를 올리고\n",
    "#검색 입력 부분에 다양한 명령을 내리기 위해 elem 변수에 할당한다\n",
    "#elem = driver.find_element_by_name('q')\n",
    "elem = driver.find_element('name','q')\n",
    "\n",
    "#입력 부분에 default로 값이 있을 수 있어 비운다\n",
    "elem.clear()\n",
    "\n",
    "#검색어를 입력한다\n",
    "elem.send_keys(\"Selenium\")\n",
    "\n",
    "#검색을 실행한다elem.submit()\n",
    "#검색이 제대로 됐는지 확인한다\n",
    "assert \"No results found.\" not in driver.page_source\n",
    "\n",
    "#브라우저를 종료한다\n",
    "driver.close()"
   ]
  }
 ],
 "metadata": {
  "kernelspec": {
   "display_name": "Python 3 (ipykernel)",
   "language": "python",
   "name": "python3"
  },
  "language_info": {
   "codemirror_mode": {
    "name": "ipython",
    "version": 3
   },
   "file_extension": ".py",
   "mimetype": "text/x-python",
   "name": "python",
   "nbconvert_exporter": "python",
   "pygments_lexer": "ipython3",
   "version": "3.10.4"
  }
 },
 "nbformat": 4,
 "nbformat_minor": 5
}
