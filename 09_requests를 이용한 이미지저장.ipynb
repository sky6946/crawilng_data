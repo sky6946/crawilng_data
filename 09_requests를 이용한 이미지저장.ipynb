{
 "cells": [
  {
   "cell_type": "code",
   "execution_count": null,
   "id": "330ff0d9",
   "metadata": {},
   "outputs": [],
   "source": [
    "import requests\n",
    "\n",
    "url = 'https://search.pstatic.net/common/?src=http%3A%2F%2Fblogfiles.naver.net%2FMjAyMjA3MjFfMTM3%2FMDAxNjU4MzcxMzM4Mjc3.RGjp5mDIZR0mFdBJIs6sM0gCnNBIHfGJ0yHOWL-GnTcg.L4b6CGBUnZ38t0xbKNBG6lAnLbnhUuPORktwSOcl3qcg.PNG.litl_pierrot%2Fimage.png&type=sc960_832'\n",
    "\n",
    "img_response = requests.get(url)\n",
    "\n",
    "if img_response.status_code == 200:\n",
    "    print('이미지저장')\n",
    "    with open('짱구.jpg','wb') as fp:\n",
    "        fp.write(img_response.content)"
   ]
  }
 ],
 "metadata": {
  "kernelspec": {
   "display_name": "Python 3 (ipykernel)",
   "language": "python",
   "name": "python3"
  },
  "language_info": {
   "codemirror_mode": {
    "name": "ipython",
    "version": 3
   },
   "file_extension": ".py",
   "mimetype": "text/x-python",
   "name": "python",
   "nbconvert_exporter": "python",
   "pygments_lexer": "ipython3",
   "version": "3.10.4"
  }
 },
 "nbformat": 4,
 "nbformat_minor": 5
}
