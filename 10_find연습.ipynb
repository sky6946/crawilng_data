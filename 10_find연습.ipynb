{
 "cells": [
  {
   "cell_type": "code",
   "execution_count": 1,
   "id": "f4a88202",
   "metadata": {},
   "outputs": [],
   "source": [
    "html = '''\n",
    "<html>\n",
    "    <head>\n",
    "        <title>HTML연습2</title>\n",
    "    </head>\n",
    "    <body>\n",
    "        <h1>우리동네시장</h1>\n",
    "            <div class='sale'>\n",
    "                <p id='fruits1' class='fruits'>\n",
    "                    <span class='name'>바나나</span>\n",
    "                    <span class='price'></span>\n",
    "                    <span class='inventory'>500개</span>\n",
    "                    <span class='store'>가나다상회</span>\n",
    "                    <a href='https://www.naver.com'>네이버</a>\n",
    "                </p>\n",
    "            </div>\n",
    "            <div class = 'prepare'>\n",
    "                <p id='fruits2' class='fruits'>\n",
    "                    <span class = 'name'>파인애플</span>\n",
    "                    <a href='https://www.daum.net'>다음</a>\n",
    "                </p>\n",
    "            </div>\n",
    "    </body>\n",
    "</html>\n",
    "\n",
    "'''\n",
    "\n",
    "from bs4 import BeautifulSoup as bs"
   ]
  },
  {
   "cell_type": "code",
   "execution_count": 2,
   "id": "eec4659e",
   "metadata": {},
   "outputs": [
    {
     "data": {
      "text/plain": [
       "<title>HTML연습2</title>"
      ]
     },
     "execution_count": 2,
     "metadata": {},
     "output_type": "execute_result"
    }
   ],
   "source": [
    "soup=bs(html,'html.parser')\n",
    "soup.find('title') "
   ]
  },
  {
   "cell_type": "code",
   "execution_count": 3,
   "id": "d92c95ea",
   "metadata": {},
   "outputs": [
    {
     "data": {
      "text/plain": [
       "<p class=\"fruits\" id=\"fruits1\">\n",
       "<span class=\"name\">바나나</span>\n",
       "<span class=\"price\"></span>\n",
       "<span class=\"inventory\">500개</span>\n",
       "<span class=\"store\">가나다상회</span>\n",
       "<a href=\"https://www.naver.com\">네이버</a>\n",
       "</p>"
      ]
     },
     "execution_count": 3,
     "metadata": {},
     "output_type": "execute_result"
    }
   ],
   "source": [
    "soup.find('p') "
   ]
  },
  {
   "cell_type": "code",
   "execution_count": 4,
   "id": "0d765278",
   "metadata": {},
   "outputs": [
    {
     "data": {
      "text/plain": [
       "[<p class=\"fruits\" id=\"fruits1\">\n",
       " <span class=\"name\">바나나</span>\n",
       " <span class=\"price\"></span>\n",
       " <span class=\"inventory\">500개</span>\n",
       " <span class=\"store\">가나다상회</span>\n",
       " <a href=\"https://www.naver.com\">네이버</a>\n",
       " </p>,\n",
       " <p class=\"fruits\" id=\"fruits2\">\n",
       " <span class=\"name\">파인애플</span>\n",
       " <a href=\"https://www.daum.net\">다음</a>\n",
       " </p>]"
      ]
     },
     "execution_count": 4,
     "metadata": {},
     "output_type": "execute_result"
    }
   ],
   "source": [
    "soup.find_all('p')"
   ]
  },
  {
   "cell_type": "code",
   "execution_count": 5,
   "id": "951a70c9",
   "metadata": {},
   "outputs": [
    {
     "data": {
      "text/plain": [
       "[<span class=\"name\">바나나</span>,\n",
       " <span class=\"price\"></span>,\n",
       " <span class=\"inventory\">500개</span>,\n",
       " <span class=\"store\">가나다상회</span>,\n",
       " <a href=\"https://www.naver.com\">네이버</a>,\n",
       " <span class=\"name\">파인애플</span>,\n",
       " <a href=\"https://www.daum.net\">다음</a>]"
      ]
     },
     "execution_count": 5,
     "metadata": {},
     "output_type": "execute_result"
    }
   ],
   "source": [
    "soup.find_all(['span','a'])"
   ]
  },
  {
   "cell_type": "code",
   "execution_count": 6,
   "id": "93cbb5b3",
   "metadata": {},
   "outputs": [
    {
     "name": "stdout",
     "output_type": "stream",
     "text": [
      "바나나\n",
      "None\n",
      "500개\n",
      "가나다상회\n",
      "파인애플\n"
     ]
    }
   ],
   "source": [
    "txt1 = soup.find_all('span')\n",
    "\n",
    "for i in txt1:\n",
    "    print(i.string)"
   ]
  },
  {
   "cell_type": "code",
   "execution_count": 8,
   "id": "1f83eb9e",
   "metadata": {},
   "outputs": [
    {
     "name": "stdout",
     "output_type": "stream",
     "text": [
      "바나나\n",
      "\n",
      "500개\n",
      "가나다상회\n",
      "파인애플\n"
     ]
    }
   ],
   "source": [
    "for i in txt1:\n",
    "    print(i.get_text())"
   ]
  }
 ],
 "metadata": {
  "kernelspec": {
   "display_name": "Python 3 (ipykernel)",
   "language": "python",
   "name": "python3"
  },
  "language_info": {
   "codemirror_mode": {
    "name": "ipython",
    "version": 3
   },
   "file_extension": ".py",
   "mimetype": "text/x-python",
   "name": "python",
   "nbconvert_exporter": "python",
   "pygments_lexer": "ipython3",
   "version": "3.10.4"
  }
 },
 "nbformat": 4,
 "nbformat_minor": 5
}
