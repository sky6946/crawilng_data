{
 "cells": [
  {
   "cell_type": "code",
   "execution_count": 2,
   "id": "4d5749c9",
   "metadata": {},
   "outputs": [],
   "source": [
    "import requests\n",
    "from bs4 import BeautifulSoup as bs\n",
    "\n",
    "url = 'https://comic.naver.com/webtoon/list?titleId=616239'\n",
    "re = requests.get(url)\n",
    "re.raise_for_status()\n",
    "\n",
    "soup = bs(re.text,'html.parser')"
   ]
  },
  {
   "cell_type": "code",
   "execution_count": 7,
   "id": "6c9d863b",
   "metadata": {},
   "outputs": [
    {
     "name": "stdout",
     "output_type": "stream",
     "text": [
      "시즌2 598화 원래 용도와 다르게 2/3\n",
      "https://comic.naver.com/webtoon/detail?titleId=616239&no=860&weekday=tue\n"
     ]
    }
   ],
   "source": [
    "cartoons = soup.find_all('td', attrs={'class':'title'})\n",
    "\n",
    "title = cartoons[0].a.get_text()\n",
    "link = cartoons[0].a['href']\n",
    "print(title)\n",
    "\n",
    "print('https://comic.naver.com' + link)"
   ]
  },
  {
   "cell_type": "code",
   "execution_count": 9,
   "id": "0944431b",
   "metadata": {},
   "outputs": [
    {
     "name": "stdout",
     "output_type": "stream",
     "text": [
      "시즌2 598화 원래 용도와 다르게 2/3 https://comic.naver.com/webtoon/detail?titleId=616239&no=860&weekday=tue\n",
      "시즌2 597화 원래 용도와 다르게 1/3 https://comic.naver.com/webtoon/detail?titleId=616239&no=859&weekday=tue\n",
      "시즌2 596화 화해의 기술 2/2 https://comic.naver.com/webtoon/detail?titleId=616239&no=858&weekday=tue\n",
      "시즌2 595화 화해의 기술 1/2 https://comic.naver.com/webtoon/detail?titleId=616239&no=857&weekday=tue\n",
      "시즌2 594화 쌓여서 폭발 4/4 https://comic.naver.com/webtoon/detail?titleId=616239&no=856&weekday=tue\n",
      "시즌2 593화 쌓여서 폭발 3/4 https://comic.naver.com/webtoon/detail?titleId=616239&no=855&weekday=tue\n",
      "시즌2 592화 쌓여서 폭발 2/4 https://comic.naver.com/webtoon/detail?titleId=616239&no=854&weekday=tue\n",
      "시즌2 591화 쌓여서 폭발 1/4 https://comic.naver.com/webtoon/detail?titleId=616239&no=853&weekday=tue\n",
      "시즌2 590화 대게 싸움 2/2 https://comic.naver.com/webtoon/detail?titleId=616239&no=852&weekday=tue\n",
      "시즌2 589화 대게 싸움 1/2 https://comic.naver.com/webtoon/detail?titleId=616239&no=851&weekday=tue\n"
     ]
    }
   ],
   "source": [
    "for cartoon in cartoons:\n",
    "    title = cartoon.a.get_text()\n",
    "    link = 'https://comic.naver.com' + cartoon.a['href']\n",
    "    print(title,link)"
   ]
  },
  {
   "cell_type": "code",
   "execution_count": 13,
   "id": "15ddded3",
   "metadata": {},
   "outputs": [
    {
     "name": "stdout",
     "output_type": "stream",
     "text": [
      "9.69\n",
      "9.70\n",
      "9.67\n",
      "9.70\n",
      "9.72\n",
      "9.22\n",
      "8.89\n",
      "8.94\n",
      "9.72\n",
      "9.41\n",
      "전체 점수:  94.66\n",
      "평균 점수:  9.466\n"
     ]
    }
   ],
   "source": [
    "\n",
    "total_rates = 0  \n",
    "cartoons1 = soup.find_all('div', attrs={'class':'rating_type'})\n",
    "for cartoon1 in cartoons1:\n",
    "    rate = cartoon1.find('strong').get_text()\n",
    "    print(rate)\n",
    "    total_rates += float(rate)\n",
    "print('전체 점수: ', total_rates)\n",
    "print('평균 점수: ', total_rates/len(cartoons1))"
   ]
  }
 ],
 "metadata": {
  "kernelspec": {
   "display_name": "Python 3 (ipykernel)",
   "language": "python",
   "name": "python3"
  },
  "language_info": {
   "codemirror_mode": {
    "name": "ipython",
    "version": 3
   },
   "file_extension": ".py",
   "mimetype": "text/x-python",
   "name": "python",
   "nbconvert_exporter": "python",
   "pygments_lexer": "ipython3",
   "version": "3.10.4"
  }
 },
 "nbformat": 4,
 "nbformat_minor": 5
}
