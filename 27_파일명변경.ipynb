{
 "cells": [
  {
   "cell_type": "code",
   "execution_count": 7,
   "id": "89a18e58",
   "metadata": {},
   "outputs": [
    {
     "name": "stdout",
     "output_type": "stream",
     "text": [
      "완료\n"
     ]
    }
   ],
   "source": [
    "import os\n",
    "\n",
    "dir_path = 'd:/img'\n",
    "\n",
    "file_names=[]\n",
    "\n",
    "file_names = os.listdir(dir_path)\n",
    "\n",
    "i = 1\n",
    "\n",
    "for name in file_names:\n",
    "    src = os.path.join(dir_path, name)\n",
    "    f_rename = '여름_' + str(i) + '.jpg'\n",
    "    f_rename = os.path.join(dir_path, f_rename)\n",
    "    os.rename(src,f_rename)\n",
    "    i += 1\n",
    "    \n",
    "print('완료')"
   ]
  },
  {
   "cell_type": "code",
   "execution_count": null,
   "id": "9a90d52d",
   "metadata": {},
   "outputs": [],
   "source": []
  }
 ],
 "metadata": {
  "kernelspec": {
   "display_name": "Python 3 (ipykernel)",
   "language": "python",
   "name": "python3"
  },
  "language_info": {
   "codemirror_mode": {
    "name": "ipython",
    "version": 3
   },
   "file_extension": ".py",
   "mimetype": "text/x-python",
   "name": "python",
   "nbconvert_exporter": "python",
   "pygments_lexer": "ipython3",
   "version": "3.10.4"
  }
 },
 "nbformat": 4,
 "nbformat_minor": 5
}
