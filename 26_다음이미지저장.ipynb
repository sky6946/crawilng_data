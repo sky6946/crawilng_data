{
 "cells": [
  {
   "cell_type": "code",
   "execution_count": 6,
   "id": "79e38d09",
   "metadata": {},
   "outputs": [
    {
     "data": {
      "text/plain": [
       "[<img alt=\"Daum\" height=\"34\" src=\"//search1.daumcdn.net/search/statics/common/pi/logo/daumlogo_170324.png\" width=\"84\"/>,\n",
       " <img alt=\"Select date\" class=\"ui-datepicker-trigger\" src=\"//search1.daumcdn.net/search/statics/common/pi/ico/ico_calendar.gif\" title=\"Select date\"/>,\n",
       " <img alt=\"Select date\" class=\"ui-datepicker-trigger\" src=\"//search1.daumcdn.net/search/statics/common/pi/ico/ico_calendar.gif\" title=\"Select date\"/>]"
      ]
     },
     "execution_count": 6,
     "metadata": {},
     "output_type": "execute_result"
    }
   ],
   "source": [
    "import requests\n",
    "from bs4 import BeautifulSoup as bs\n",
    "\n",
    "keyword='딸기'\n",
    "url = f'https://search.daum.net/search?nil_suggest=btn&w=img&DA=SBC&q={keyword}'\n",
    "\n",
    "re = requests.get(url)\n",
    "html = re.text\n",
    "soup = bs(html,'html.parser')\n",
    "soup.select('img')\n"
   ]
  },
  {
   "cell_type": "code",
   "execution_count": 44,
   "id": "15d77233",
   "metadata": {},
   "outputs": [
    {
     "data": {
      "text/plain": [
       "[<img alt=\"Daum\" height=\"34\" src=\"//search1.daumcdn.net/search/statics/common/pi/logo/daumlogo_170324.png\" width=\"84\"/>,\n",
       " <img alt=\"\" height=\"36\" src=\"//t1.daumcdn.net/daumtop_deco/images/common/minidaum/rtn/ic_cafe.png\" width=\"36\"/>,\n",
       " <img alt=\"\" height=\"36\" src=\"//t1.daumcdn.net/daumtop_deco/images/common/minidaum/rtn/ic_news.png\" width=\"36\"/>,\n",
       " <img alt=\"\" height=\"36\" src=\"//t1.daumcdn.net/daumtop_deco/images/common/minidaum/rtn/ic_map.png\" width=\"36\"/>,\n",
       " <img alt=\"\" height=\"36\" src=\"//t1.daumcdn.net/daumtop_deco/images/common/minidaum/rtn/ic_shopping.png\" width=\"36\"/>,\n",
       " <img alt=\"Select date\" class=\"ui-datepicker-trigger\" src=\"//search1.daumcdn.net/search/statics/common/pi/ico/ico_calendar.gif\" title=\"Select date\"/>,\n",
       " <img alt=\"Select date\" class=\"ui-datepicker-trigger\" src=\"//search1.daumcdn.net/search/statics/common/pi/ico/ico_calendar.gif\" title=\"Select date\"/>,\n",
       " <img alt=\"바쁜 여름 / 박성우\" class=\"thumb_img\" data-size=\"267x180\" data-src=\"https://search3.kakaocdn.net/argon/0x200_85_hr/3uILjBT09zf\" onerror=\"SF.errorImage(this)\" src=\"https://search3.kakaocdn.net/argon/0x200_85_hr/3uILjBT09zf\" style=\"width:271px;height:180px;margin-left:-1px\"/>,\n",
       " <img alt=\"[ST포토]헬로비너스 여름 &amp;apos;물오른 미모&amp;apos;\" class=\"thumb_img\" data-size=\"107x180\" data-src=\"https://search2.kakaocdn.net/argon/0x200_85_hr/9C8n9ysmOMb\" onerror=\"SF.errorImage(this)\" src=\"https://search2.kakaocdn.net/argon/0x200_85_hr/9C8n9ysmOMb\" style=\"width:111px;height:180px;margin-left:-1px\"/>,\n",
       " <img alt=\"[ON포토] 헬로비너스 여름, &amp;apos;커다란 눈동자&amp;apos;\" class=\"thumb_img\" data-size=\"117x180\" data-src=\"https://search1.kakaocdn.net/argon/0x200_85_hr/CjH6pXpiSfq\" onerror=\"SF.errorImage(this)\" src=\"https://search1.kakaocdn.net/argon/0x200_85_hr/CjH6pXpiSfq\" style=\"width:121px;height:180px;margin-left:-1px\"/>,\n",
       " <img alt=\"여름\" class=\"thumb_img\" data-size=\"263x180\" data-src=\"https://search4.kakaocdn.net/argon/0x200_85_hr/6GipW7jP3cs\" onerror=\"SF.errorImage(this)\" src=\"https://search4.kakaocdn.net/argon/0x200_85_hr/6GipW7jP3cs\" style=\"width:266px;height:180px;margin-left:-1px\"/>,\n",
       " <img alt=\"&amp;quot;물오른 미모, 독보적 분위기..&amp;quot; 우주소녀 보나·여름\" class=\"thumb_img\" data-size=\"116x180\" data-src=\"https://search4.kakaocdn.net/argon/0x200_85_hr/4WuI2BcWoEs\" onerror=\"SF.errorImage(this)\" src=\"https://search4.kakaocdn.net/argon/0x200_85_hr/4WuI2BcWoEs\" style=\"width:120px;height:180px;margin-left:-1px\"/>,\n",
       " <img alt=\"여름 꽃\" class=\"thumb_img\" data-size=\"237x180\" data-src=\"https://search1.kakaocdn.net/argon/0x200_85_hr/1Xw0jocWSNq\" onerror=\"SF.errorImage(this)\" src=\"https://search1.kakaocdn.net/argon/0x200_85_hr/1Xw0jocWSNq\" style=\"width:240px;height:180px;margin-left:-1px\"/>,\n",
       " <img alt=\"여름 꽃\" class=\"thumb_img\" data-size=\"246x186\" data-src=\"https://search2.kakaocdn.net/argon/0x200_85_hr/GNtQExrYTN4\" onerror=\"SF.errorImage(this)\" src=\"https://search2.kakaocdn.net/argon/0x200_85_hr/GNtQExrYTN4\" style=\"width:248px;height:186px;margin-left:-0px\"/>,\n",
       " <img alt=\"여름 꽃\" class=\"thumb_img\" data-size=\"239x186\" data-src=\"https://search2.kakaocdn.net/argon/0x200_85_hr/2mffZjMu5PI\" onerror=\"SF.errorImage(this)\" src=\"https://search2.kakaocdn.net/argon/0x200_85_hr/2mffZjMu5PI\" style=\"width:249px;height:186px;margin-left:-4px\"/>,\n",
       " <img alt=\"[ST포토]헬로비너스 여름-서영 &amp;apos;점점 예뻐지네&amp;apos;\" class=\"thumb_img\" data-size=\"125x186\" data-src=\"https://search3.kakaocdn.net/argon/0x200_85_hr/B2dze8R35Jy\" onerror=\"SF.errorImage(this)\" src=\"https://search3.kakaocdn.net/argon/0x200_85_hr/B2dze8R35Jy\" style=\"width:127px;height:186px;margin-left:0px\"/>,\n",
       " <img alt=\"여름에 더 위험한 뇌졸중, &amp;apos;더위&amp;apos;가 무서운 이유\" class=\"thumb_img\" data-size=\"121x186\" data-src=\"https://search2.kakaocdn.net/argon/0x200_85_hr/5DuMWmpnglZ\" onerror=\"SF.errorImage(this)\" src=\"https://search2.kakaocdn.net/argon/0x200_85_hr/5DuMWmpnglZ\" style=\"width:124px;height:186px;margin-left:-1px\"/>,\n",
       " <img alt=\"자외선 차단을 위한 여름 필수품! 이건 꼭 챙기세요.\" class=\"thumb_img\" data-size=\"277x186\" data-src=\"https://search1.kakaocdn.net/argon/0x200_85_hr/AWHm58latUo\" onerror=\"SF.errorImage(this)\" src=\"https://search1.kakaocdn.net/argon/0x200_85_hr/AWHm58latUo\" style=\"width:279px;height:186px;margin-left:-0px\"/>,\n",
       " <img alt=\"[포토] 헬로비너스 여름 &amp;apos;깜찍발랄 연기 도전&amp;apos;\" class=\"thumb_img\" data-size=\"100x186\" data-src=\"https://search2.kakaocdn.net/argon/0x200_85_hr/Fu9QGcp4YWB\" onerror=\"SF.errorImage(this)\" src=\"https://search2.kakaocdn.net/argon/0x200_85_hr/Fu9QGcp4YWB\" style=\"width:103px;height:186px;margin-left:-1px\"/>,\n",
       " <img alt=\"여름축제 한국민속촌 &amp;apos;그해 시골 여름&amp;apos; 행사 안내\" class=\"thumb_img\" data-size=\"141x180\" data-src=\"https://search3.kakaocdn.net/argon/0x200_85_hr/5kNzDKyKCrF\" onerror=\"SF.errorImage(this)\" src=\"https://search3.kakaocdn.net/argon/0x200_85_hr/5kNzDKyKCrF\" style=\"width:144px;height:180px;margin-left:-1px\"/>,\n",
       " <img alt=\"여름, 속삭임\" class=\"thumb_img\" data-size=\"268x180\" data-src=\"https://search2.kakaocdn.net/argon/0x200_85_hr/JfrhDrgX1xr\" onerror=\"SF.errorImage(this)\" src=\"https://search2.kakaocdn.net/argon/0x200_85_hr/JfrhDrgX1xr\" style=\"width:271px;height:180px;margin-left:-1px\"/>,\n",
       " <img alt=\"[포토] 헬로비너스 여름 &amp;apos;비상식적인 롱다리 기럭지&amp;apos;\" class=\"thumb_img\" data-size=\"106x180\" data-src=\"https://search3.kakaocdn.net/argon/0x200_85_hr/7M18q2kyLm9\" onerror=\"SF.errorImage(this)\" src=\"https://search3.kakaocdn.net/argon/0x200_85_hr/7M18q2kyLm9\" style=\"width:109px;height:180px;margin-left:-1px\"/>,\n",
       " <img alt=\"헬로비너스 출신 라임·유영·여름, 활동명 변경→연기자로 새 출발(공식)\" class=\"thumb_img\" data-size=\"117x180\" data-src=\"https://search3.kakaocdn.net/argon/0x200_85_hr/1urWCmH9D1k\" onerror=\"SF.errorImage(this)\" src=\"https://search3.kakaocdn.net/argon/0x200_85_hr/1urWCmH9D1k\" style=\"width:120px;height:180px;margin-left:-1px\"/>,\n",
       " <img alt=\"[TD포토] 헬로비너스 여름-라임 &amp;apos;시선 끄는 화려한 패션&amp;apos;\" class=\"thumb_img\" data-size=\"117x180\" data-src=\"https://search4.kakaocdn.net/argon/0x200_85_hr/1Huexlkcrrh\" onerror=\"SF.errorImage(this)\" src=\"https://search4.kakaocdn.net/argon/0x200_85_hr/1Huexlkcrrh\" style=\"width:120px;height:180px;margin-left:-1px\"/>,\n",
       " <img alt=\"거리 두기의 여름..뒤라스 여름으로 위로\" class=\"thumb_img\" data-size=\"119x180\" data-src=\"https://search1.kakaocdn.net/argon/0x200_85_hr/j6l1Q0PUhb\" onerror=\"SF.errorImage(this)\" src=\"https://search1.kakaocdn.net/argon/0x200_85_hr/j6l1Q0PUhb\" style=\"width:122px;height:180px;margin-left:-1px\"/>,\n",
       " <img alt=\"여름바다\" class=\"thumb_img\" data-size=\"237x180\" data-src=\"https://search1.kakaocdn.net/argon/0x200_85_hr/4W8IqZjM1O6\" onerror=\"SF.errorImage(this)\" src=\"https://search1.kakaocdn.net/argon/0x200_85_hr/4W8IqZjM1O6\" style=\"width:240px;height:180px;margin-left:-1px\"/>,\n",
       " <img alt=\"[1분 Q&amp;amp;A] 여름에 포경수술 해도 되나요?\" class=\"thumb_img\" data-size=\"249x160\" data-src=\"https://search4.kakaocdn.net/argon/0x200_85_hr/AlBpNX2H6Mw\" onerror=\"SF.errorImage(this)\" src=\"https://search4.kakaocdn.net/argon/0x200_85_hr/AlBpNX2H6Mw\" style=\"width:251px;height:160px;margin-left:-0px\"/>,\n",
       " <img alt=\"헬로비너스 여름, 앙증맞은 하트\" class=\"thumb_img\" data-size=\"104x160\" data-src=\"https://search4.kakaocdn.net/argon/0x200_85_hr/8sqxc1jCwGW\" onerror=\"SF.errorImage(this)\" src=\"https://search4.kakaocdn.net/argon/0x200_85_hr/8sqxc1jCwGW\" style=\"width:106px;height:160px;margin-left:-0px\"/>,\n",
       " <img alt=\"여름, 속삭임\" class=\"thumb_img\" data-size=\"109x160\" data-src=\"https://search3.kakaocdn.net/argon/0x200_85_hr/4BsWNCxm6k5\" onerror=\"SF.errorImage(this)\" src=\"https://search3.kakaocdn.net/argon/0x200_85_hr/4BsWNCxm6k5\" style=\"width:112px;height:160px;margin-left:-1px\"/>,\n",
       " <img alt=\"여름 축제 일정\" class=\"thumb_img\" data-size=\"223x160\" data-src=\"https://search1.kakaocdn.net/argon/0x200_85_hr/6NGWfEQpgPL\" onerror=\"SF.errorImage(this)\" src=\"https://search1.kakaocdn.net/argon/0x200_85_hr/6NGWfEQpgPL\" style=\"width:226px;height:160px;margin-left:-1px\"/>,\n",
       " <img alt=\"여름새우난초, 꽃(정면)\" class=\"thumb_img\" data-size=\"153x160\" data-src=\"https://search3.kakaocdn.net/argon/0x200_85_hr/1iHG6B0KG8j\" onerror=\"SF.errorImage(this)\" src=\"https://search3.kakaocdn.net/argon/0x200_85_hr/1iHG6B0KG8j\" style=\"width:155px;height:160px;margin-left:-0px\"/>,\n",
       " <img alt=\"시원한 여름 이미지\" class=\"thumb_img\" data-size=\"270x160\" data-src=\"https://search3.kakaocdn.net/argon/0x200_85_hr/5cFS6g2trLo\" onerror=\"SF.errorImage(this)\" src=\"https://search3.kakaocdn.net/argon/0x200_85_hr/5cFS6g2trLo\" style=\"width:325px;height:160px;margin-left:-27px\"/>,\n",
       " <img alt=\"신한은행, 착한 여름나기 캠페인 열어\" class=\"thumb_img\" data-size=\"329x186\" data-src=\"https://search4.kakaocdn.net/argon/0x200_85_hr/4kdHyMn21CF\" onerror=\"SF.errorImage(this)\" src=\"https://search4.kakaocdn.net/argon/0x200_85_hr/4kdHyMn21CF\" style=\"width:331px;height:186px;margin-left:-0px\"/>,\n",
       " <img alt=\"헬로비너스 서영·여름, 오늘(30일) 신곡 &amp;lt;너에게 달려&amp;gt; 발표\" class=\"thumb_img\" data-size=\"183x186\" data-src=\"https://search2.kakaocdn.net/argon/0x200_85_hr/9GTMccEcsjD\" onerror=\"SF.errorImage(this)\" src=\"https://search2.kakaocdn.net/argon/0x200_85_hr/9GTMccEcsjD\" style=\"width:186px;height:186px;margin-left:-1px\"/>,\n",
       " <img alt=\"[포토] 헬로비너스 여름 &amp;apos;상상초월 초미니에 두손 꽉~&amp;apos;\" class=\"thumb_img\" data-size=\"135x186\" data-src=\"https://search2.kakaocdn.net/argon/0x200_85_hr/1Wjtd7f3f3\" onerror=\"SF.errorImage(this)\" src=\"https://search2.kakaocdn.net/argon/0x200_85_hr/1Wjtd7f3f3\" style=\"width:138px;height:186px;margin-left:-1px\"/>,\n",
       " <img alt=\"여름 사진\" class=\"thumb_img\" data-size=\"329x186\" data-src=\"https://search2.kakaocdn.net/argon/0x200_85_hr/4qbnEDb2eaE\" onerror=\"SF.errorImage(this)\" src=\"https://search2.kakaocdn.net/argon/0x200_85_hr/4qbnEDb2eaE\" style=\"width:331px;height:186px;margin-left:-0px\"/>,\n",
       " <img alt=\"여름에 어울리는 호러 소설 단편집 | YES24 채널예스\" class=\"thumb_img\" data-size=\"136x186\" data-src=\"https://search4.kakaocdn.net/argon/0x200_85_hr/KAXwl3Tasl\" onerror=\"SF.errorImage(this)\" src=\"https://search4.kakaocdn.net/argon/0x200_85_hr/KAXwl3Tasl\" style=\"width:140px;height:186px;margin-left:-1px\"/>,\n",
       " <img alt=\" *** 여름에 읽는 시 ***\" class=\"thumb_img\" data-size=\"287x192\" data-src=\"https://search3.kakaocdn.net/argon/0x200_85_hr/JH4RKjzCObL\" onerror=\"SF.errorImage(this)\" src=\"https://search3.kakaocdn.net/argon/0x200_85_hr/JH4RKjzCObL\" style=\"width:288px;height:192px;margin-left:-0px\"/>,\n",
       " <img alt=\"[새 책] 여름과 루비 외\" class=\"thumb_img\" data-size=\"130x192\" data-src=\"https://search4.kakaocdn.net/argon/0x200_85_hr/JXnqsZQd9UH\" onerror=\"SF.errorImage(this)\" src=\"https://search4.kakaocdn.net/argon/0x200_85_hr/JXnqsZQd9UH\" style=\"width:132px;height:192px;margin-left:-0px\"/>,\n",
       " <img alt=\"&amp;quot;올 여름 패션은 &amp;apos;크로셰&amp;apos;&amp;quot;\" class=\"thumb_img\" data-size=\"287x192\" data-src=\"https://search3.kakaocdn.net/argon/0x200_85_hr/EgClX2H6b3n\" onerror=\"SF.errorImage(this)\" src=\"https://search3.kakaocdn.net/argon/0x200_85_hr/EgClX2H6b3n\" style=\"width:288px;height:192px;margin-left:-0px\"/>,\n",
       " <img alt=\"카카오게임즈, &amp;apos;오딘&amp;apos; 등 자사 게임 4종에서 여름맞이 이벤트 실시\" class=\"thumb_img\" data-size=\"281x192\" data-src=\"https://search3.kakaocdn.net/argon/0x200_85_hr/G17cZqEmREY\" onerror=\"SF.errorImage(this)\" src=\"https://search3.kakaocdn.net/argon/0x200_85_hr/G17cZqEmREY\" style=\"width:281px;height:192px;margin-left:0px\"/>,\n",
       " <img alt=\"헬로비너스 여름\" class=\"thumb_img\" data-size=\"126x192\" data-src=\"https://search3.kakaocdn.net/argon/0x200_85_hr/KQRvtVir62V\" onerror=\"SF.errorImage(this)\" src=\"https://search3.kakaocdn.net/argon/0x200_85_hr/KQRvtVir62V\" style=\"width:128px;height:192px;margin-left:-0px\"/>,\n",
       " <img alt=\"여름바다\" class=\"thumb_img\" data-size=\"225x170\" data-src=\"https://search2.kakaocdn.net/argon/0x200_85_hr/4RkDpkHK8jd\" onerror=\"SF.errorImage(this)\" src=\"https://search2.kakaocdn.net/argon/0x200_85_hr/4RkDpkHK8jd\" style=\"width:227px;height:170px;margin-left:-0px\"/>,\n",
       " <img alt=\"여름\" class=\"thumb_img\" data-size=\"225x170\" data-src=\"https://search3.kakaocdn.net/argon/0x200_85_hr/HAKzws5eihT\" onerror=\"SF.errorImage(this)\" src=\"https://search3.kakaocdn.net/argon/0x200_85_hr/HAKzws5eihT\" style=\"width:227px;height:170px;margin-left:-0px\"/>,\n",
       " <img alt=\"스타벅스, 올 여름 시즌 음료 3종·푸드 4종 출시\" class=\"thumb_img\" data-size=\"167x170\" data-src=\"https://search2.kakaocdn.net/argon/0x200_85_hr/IgmTozfS285\" onerror=\"SF.errorImage(this)\" src=\"https://search2.kakaocdn.net/argon/0x200_85_hr/IgmTozfS285\" style=\"width:170px;height:170px;margin-left:-1px\"/>,\n",
       " <img alt=\"여름\" class=\"thumb_img\" data-size=\"225x170\" data-src=\"https://search3.kakaocdn.net/argon/0x200_85_hr/CPwjbggXVtM\" onerror=\"SF.errorImage(this)\" src=\"https://search3.kakaocdn.net/argon/0x200_85_hr/CPwjbggXVtM\" style=\"width:227px;height:170px;margin-left:-0px\"/>,\n",
       " <img alt=\"시원한 여름 이미지\" class=\"thumb_img\" data-size=\"270x170\" data-src=\"https://search4.kakaocdn.net/argon/0x200_85_hr/44RGpHnPAmM\" onerror=\"SF.errorImage(this)\" src=\"https://search4.kakaocdn.net/argon/0x200_85_hr/44RGpHnPAmM\" style=\"width:272px;height:170px;margin-left:-0px\"/>,\n",
       " <img alt=\"여름 환경판\" class=\"thumb_img\" data-size=\"197x186\" data-src=\"https://search3.kakaocdn.net/argon/0x200_85_hr/GN2gk8v7YUE\" onerror=\"SF.errorImage(this)\" src=\"https://search3.kakaocdn.net/argon/0x200_85_hr/GN2gk8v7YUE\" style=\"width:199px;height:186px;margin-left:-0px\"/>,\n",
       " <img alt=\"접속만 해도 &amp;apos;레어 프리즘&amp;apos;이.. 페그오, 여름 축제 캠페인 개최\" class=\"thumb_img\" data-size=\"265x186\" data-src=\"https://search4.kakaocdn.net/argon/0x200_85_hr/8LhfkhuIORk\" onerror=\"SF.errorImage(this)\" src=\"https://search4.kakaocdn.net/argon/0x200_85_hr/8LhfkhuIORk\" style=\"width:267px;height:186px;margin-left:-0px\"/>,\n",
       " <img alt=\"여름좀잠자리\" class=\"thumb_img\" data-size=\"257x186\" data-src=\"https://search2.kakaocdn.net/argon/0x200_85_hr/3vYG0kuIu2x\" onerror=\"SF.errorImage(this)\" src=\"https://search2.kakaocdn.net/argon/0x200_85_hr/3vYG0kuIu2x\" style=\"width:259px;height:186px;margin-left:-0px\"/>,\n",
       " <img alt=\"여름철 별자리\" class=\"thumb_img\" data-size=\"142x186\" data-src=\"https://search4.kakaocdn.net/argon/0x200_85_hr/LvmSp4ayvnk\" onerror=\"SF.errorImage(this)\" src=\"https://search4.kakaocdn.net/argon/0x200_85_hr/LvmSp4ayvnk\" style=\"width:145px;height:186px;margin-left:-1px\"/>,\n",
       " <img alt=\"신나는 여름축제\" class=\"thumb_img\" data-size=\"121x186\" data-src=\"https://search4.kakaocdn.net/argon/0x200_85_hr/JIs5coMB5XW\" onerror=\"SF.errorImage(this)\" src=\"https://search4.kakaocdn.net/argon/0x200_85_hr/JIs5coMB5XW\" style=\"width:124px;height:186px;margin-left:-1px\"/>,\n",
       " <img alt=\"무더운 여름(2019. 9. 4)\" class=\"thumb_img\" data-size=\"126x186\" data-src=\"https://search2.kakaocdn.net/argon/0x200_85_hr/8XtbIT3cSp8\" onerror=\"SF.errorImage(this)\" src=\"https://search2.kakaocdn.net/argon/0x200_85_hr/8XtbIT3cSp8\" style=\"width:128px;height:186px;margin-left:-0px\"/>,\n",
       " <img alt=\"[식물도감] 여름새우난초\" class=\"thumb_img\" data-size=\"108x168\" data-src=\"https://search3.kakaocdn.net/argon/0x200_85_hr/7DjVMVhMp4E\" onerror=\"SF.errorImage(this)\" src=\"https://search3.kakaocdn.net/argon/0x200_85_hr/7DjVMVhMp4E\" style=\"width:112px;height:168px;margin-left:-1px\"/>,\n",
       " <img alt=\"쿠팡, &amp;apos;여름 리빙페어&amp;apos;..현대리바트 등 유명 리빙 브랜드 대거 참여\" class=\"thumb_img\" data-size=\"407x168\" data-src=\"https://search3.kakaocdn.net/argon/0x200_85_hr/Ekbi9z8CyY9\" onerror=\"SF.errorImage(this)\" src=\"https://search3.kakaocdn.net/argon/0x200_85_hr/Ekbi9z8CyY9\" style=\"width:410px;height:168px;margin-left:-1px\"/>,\n",
       " <img alt=\"한빛 &amp;apos;에이카&amp;apos;, 다양한 보상 담은 여름나기 이벤트 시작\" class=\"thumb_img\" data-size=\"192x168\" data-src=\"https://search1.kakaocdn.net/argon/0x200_85_hr/6dHeUh16lZv\" onerror=\"SF.errorImage(this)\" src=\"https://search1.kakaocdn.net/argon/0x200_85_hr/6dHeUh16lZv\" style=\"width:196px;height:168px;margin-left:-1px\"/>,\n",
       " <img alt=\"헬로비너스 여름\" class=\"thumb_img\" data-size=\"108x168\" data-src=\"https://search4.kakaocdn.net/argon/0x200_85_hr/2rEn9RkpVmd\" onerror=\"SF.errorImage(this)\" src=\"https://search4.kakaocdn.net/argon/0x200_85_hr/2rEn9RkpVmd\" style=\"width:112px;height:168px;margin-left:-1px\"/>,\n",
       " <img alt=\"여름 사진\" class=\"thumb_img\" data-size=\"296x168\" data-src=\"https://search1.kakaocdn.net/argon/0x200_85_hr/BVXpHPXIfyR\" onerror=\"SF.errorImage(this)\" src=\"https://search1.kakaocdn.net/argon/0x200_85_hr/BVXpHPXIfyR\" style=\"width:299px;height:168px;margin-left:-1px\"/>,\n",
       " <img alt=\"역마살님의 이야기 211 - 여름 단상(斷想)-\" class=\"thumb_img\" data-size=\"288x194\" data-src=\"https://search3.kakaocdn.net/argon/0x200_85_hr/8MyuwSIpDql\" onerror=\"SF.errorImage(this)\" src=\"https://search3.kakaocdn.net/argon/0x200_85_hr/8MyuwSIpDql\" style=\"width:291px;height:194px;margin-left:-1px\"/>,\n",
       " <img alt=\"여름휴가 장소추천, 2016 여름휴가 올 여름엔 여기 TOP4 | 익스피디아 트래블 블로그\" class=\"thumb_img\" data-size=\"288x194\" data-src=\"https://search4.kakaocdn.net/argon/0x200_85_hr/6m7i6XMmoUB\" onerror=\"SF.errorImage(this)\" src=\"https://search4.kakaocdn.net/argon/0x200_85_hr/6m7i6XMmoUB\" style=\"width:291px;height:194px;margin-left:-1px\"/>,\n",
       " <img alt=\"스마일게이트, ‘마술양품점’ 여름맞이 업데이트 실시\" class=\"thumb_img\" data-size=\"197x194\" data-src=\"https://search1.kakaocdn.net/argon/0x200_85_hr/I5zHSojj6Qy\" onerror=\"SF.errorImage(this)\" src=\"https://search1.kakaocdn.net/argon/0x200_85_hr/I5zHSojj6Qy\" style=\"width:201px;height:194px;margin-left:-1px\"/>,\n",
       " <img alt=\"백야극광, 여름 이벤트 &amp;apos;해신제·여름의 꿈&amp;apos; 실시\" class=\"thumb_img\" data-size=\"342x194\" data-src=\"https://search2.kakaocdn.net/argon/0x200_85_hr/7KaGp7M8VVz\" onerror=\"SF.errorImage(this)\" src=\"https://search2.kakaocdn.net/argon/0x200_85_hr/7KaGp7M8VVz\" style=\"width:345px;height:194px;margin-left:-1px\"/>,\n",
       " <img alt=\"서울식물원 운영시간 여름나기 총정리\" class=\"thumb_img\" data-size=\"254x170\" data-src=\"https://search1.kakaocdn.net/argon/0x200_85_hr/FnhSoXwZiVH\" onerror=\"SF.errorImage(this)\" src=\"https://search1.kakaocdn.net/argon/0x200_85_hr/FnhSoXwZiVH\" style=\"width:257px;height:170px;margin-left:-1px\"/>,\n",
       " <img alt=\"여름 - 징검다리\" class=\"thumb_img\" data-size=\"131x170\" data-src=\"https://search1.kakaocdn.net/argon/0x200_85_hr/JgK9EslyZGt\" onerror=\"SF.errorImage(this)\" src=\"https://search1.kakaocdn.net/argon/0x200_85_hr/JgK9EslyZGt\" style=\"width:134px;height:170px;margin-left:-1px\"/>,\n",
       " <img alt=\"국립백두대간수목원 주최 &amp;apos;여름 봉자페스티벌&amp;apos; 개막\" class=\"thumb_img\" data-size=\"117x170\" data-src=\"https://search4.kakaocdn.net/argon/0x200_85_hr/Diq0azjL62y\" onerror=\"SF.errorImage(this)\" src=\"https://search4.kakaocdn.net/argon/0x200_85_hr/Diq0azjL62y\" style=\"width:121px;height:170px;margin-left:-1px\"/>,\n",
       " <img alt=\"롯데주류 &amp;apos;클라우드&amp;apos;, 부산·양양서 여름 이벤트\" class=\"thumb_img\" data-size=\"253x170\" data-src=\"https://search3.kakaocdn.net/argon/0x200_85_hr/H1k15MPKcA6\" onerror=\"SF.errorImage(this)\" src=\"https://search3.kakaocdn.net/argon/0x200_85_hr/H1k15MPKcA6\" style=\"width:256px;height:170px;margin-left:-1px\"/>,\n",
       " <img alt=\"헬로비너스 여름 원피스 몸매\" class=\"thumb_img\" data-size=\"93x170\" data-src=\"https://search2.kakaocdn.net/argon/0x200_85_hr/Ek67o6uXmHY\" onerror=\"SF.errorImage(this)\" src=\"https://search2.kakaocdn.net/argon/0x200_85_hr/Ek67o6uXmHY\" style=\"width:96px;height:170px;margin-left:-1px\"/>,\n",
       " <img alt=\"여름 축제 일정\" class=\"thumb_img\" data-size=\"260x170\" data-src=\"https://search4.kakaocdn.net/argon/0x200_85_hr/6eUOzPgTVPd\" onerror=\"SF.errorImage(this)\" src=\"https://search4.kakaocdn.net/argon/0x200_85_hr/6eUOzPgTVPd\" style=\"width:263px;height:170px;margin-left:-1px\"/>,\n",
       " <img alt=\"여름휴가 시즌, 할인 게임을 만나자!\" class=\"thumb_img\" data-size=\"333x170\" data-src=\"https://search4.kakaocdn.net/argon/0x200_85_hr/K1iQ3ouP9gK\" onerror=\"SF.errorImage(this)\" src=\"https://search4.kakaocdn.net/argon/0x200_85_hr/K1iQ3ouP9gK\" style=\"width:335px;height:170px;margin-left:-0px\"/>,\n",
       " <img alt=\"고통받는 헬로비너스 여름이\" class=\"thumb_img\" data-size=\"133x170\" data-src=\"https://search4.kakaocdn.net/argon/0x200_85_hr/ClRBRmXmoTv\" onerror=\"SF.errorImage(this)\" src=\"https://search4.kakaocdn.net/argon/0x200_85_hr/ClRBRmXmoTv\" style=\"width:136px;height:170px;margin-left:-1px\"/>,\n",
       " <img alt=\"헤지스키즈, 테니스 감성 여름 컬렉션 출시\" class=\"thumb_img\" data-size=\"253x170\" data-src=\"https://search3.kakaocdn.net/argon/0x200_85_hr/IK2RcDSG7ql\" onerror=\"SF.errorImage(this)\" src=\"https://search3.kakaocdn.net/argon/0x200_85_hr/IK2RcDSG7ql\" style=\"width:255px;height:170px;margin-left:-0px\"/>,\n",
       " <img alt=\"여름철 별미 열무 효능 보관법\" class=\"thumb_img\" data-size=\"167x170\" data-src=\"https://search1.kakaocdn.net/argon/0x200_85_hr/1rebgICR7fA\" onerror=\"SF.errorImage(this)\" src=\"https://search1.kakaocdn.net/argon/0x200_85_hr/1rebgICR7fA\" style=\"width:170px;height:170px;margin-left:-1px\"/>,\n",
       " <img alt=\"여름꽃\" class=\"thumb_img\" data-size=\"225x170\" data-src=\"https://search2.kakaocdn.net/argon/0x200_85_hr/BUQo8dBooOd\" onerror=\"SF.errorImage(this)\" src=\"https://search2.kakaocdn.net/argon/0x200_85_hr/BUQo8dBooOd\" style=\"width:227px;height:170px;margin-left:-0px\"/>,\n",
       " <img alt=\"그해 여름\" class=\"thumb_img\" data-size=\"149x190\" data-src=\"https://search1.kakaocdn.net/argon/0x200_85_hr/2eiuyRkxd8K\" onerror=\"SF.errorImage(this)\" src=\"https://search1.kakaocdn.net/argon/0x200_85_hr/2eiuyRkxd8K\" style=\"width:152px;height:190px;margin-left:-1px\"/>,\n",
       " <img alt=\"여름철 별자리 - 여름의 대삼각형 견우직녀성 그리스신화\" class=\"thumb_img\" data-size=\"194x190\" data-src=\"https://search2.kakaocdn.net/argon/0x200_85_hr/8GfpNHJnjI1\" onerror=\"SF.errorImage(this)\" src=\"https://search2.kakaocdn.net/argon/0x200_85_hr/8GfpNHJnjI1\" style=\"width:197px;height:190px;margin-left:-1px\"/>,\n",
       " <img alt=\"블루포션게임즈, &amp;apos;에오스&amp;apos; 여름맞이 대규모 이벤트 진행\" class=\"thumb_img\" data-size=\"488x190\" data-src=\"https://search4.kakaocdn.net/argon/0x200_85_hr/4lZvdz5c7ta\" onerror=\"SF.errorImage(this)\" src=\"https://search4.kakaocdn.net/argon/0x200_85_hr/4lZvdz5c7ta\" style=\"width:489px;height:190px;margin-left:-0px\"/>,\n",
       " <img alt=\"여름날 / 김사인\" class=\"thumb_img\" data-size=\"283x190\" data-src=\"https://search1.kakaocdn.net/argon/0x200_85_hr/749pnlQU8UF\" onerror=\"SF.errorImage(this)\" src=\"https://search1.kakaocdn.net/argon/0x200_85_hr/749pnlQU8UF\" style=\"width:285px;height:190px;margin-left:-0px\"/>,\n",
       " <img alt=\"여름매실 동치미\" class=\"thumb_img\" data-size=\"229x172\" data-src=\"https://search1.kakaocdn.net/argon/0x200_85_hr/7FiMHFxffVK\" onerror=\"SF.errorImage(this)\" src=\"https://search1.kakaocdn.net/argon/0x200_85_hr/7FiMHFxffVK\" style=\"width:230px;height:172px;margin-left:-0px\"/>,\n",
       " <img alt=\"여름\" class=\"thumb_img\" data-size=\"257x172\" data-src=\"https://search3.kakaocdn.net/argon/0x200_85_hr/6f138IW0LAY\" onerror=\"SF.errorImage(this)\" src=\"https://search3.kakaocdn.net/argon/0x200_85_hr/6f138IW0LAY\" style=\"width:258px;height:172px;margin-left:-0px\"/>,\n",
       " <img alt=\"올 여름, 평년보다 무더운 시작 &amp;apos;6·7·8월 날씨는?&amp;apos;\" class=\"thumb_img\" data-size=\"297x172\" data-src=\"https://search1.kakaocdn.net/argon/0x200_85_hr/EPQuNtGBsLP\" onerror=\"SF.errorImage(this)\" src=\"https://search1.kakaocdn.net/argon/0x200_85_hr/EPQuNtGBsLP\" style=\"width:298px;height:172px;margin-left:-0px\"/>,\n",
       " <img alt=\"넷마블 &amp;apos;페이트/그랜드 오더&amp;apos;, 여름 축제 캠페인 실시\" class=\"thumb_img\" data-size=\"331x172\" data-src=\"https://search4.kakaocdn.net/argon/0x200_85_hr/3KuziQ32XPT\" onerror=\"SF.errorImage(this)\" src=\"https://search4.kakaocdn.net/argon/0x200_85_hr/3KuziQ32XPT\" style=\"width:331px;height:172px;margin-left:--1px\"/>,\n",
       " <img alt=\"끝나지 않은 여름\" class=\"thumb_img\" data-size=\"116x164\" data-src=\"https://search1.kakaocdn.net/argon/0x200_85_hr/8N3n1U4WX9U\" onerror=\"SF.errorImage(this)\" src=\"https://search1.kakaocdn.net/argon/0x200_85_hr/8N3n1U4WX9U\" style=\"width:116px;height:164px\"/>,\n",
       " <img alt=\"여름 과일 효능\" class=\"thumb_img\" data-size=\"200x200\" data-src=\"https://search1.kakaocdn.net/argon/0x200_85_hr/5MWH2Sw8Yqw\" onerror=\"SF.errorImage(this)\" src=\"https://search1.kakaocdn.net/argon/0x200_85_hr/5MWH2Sw8Yqw\" style=\"width:200px;height:200px\"/>,\n",
       " <img alt=\"[스크랩] 여름\" class=\"thumb_img\" data-size=\"149x200\" data-src=\"https://search2.kakaocdn.net/argon/0x200_85_hr/JzdMfXrxFMx\" onerror=\"SF.errorImage(this)\" src=\"https://search2.kakaocdn.net/argon/0x200_85_hr/JzdMfXrxFMx\" style=\"width:149px;height:200px\"/>,\n",
       " <img alt=\"여름 동물원\" class=\"thumb_img\" data-size=\"143x200\" data-src=\"https://search1.kakaocdn.net/argon/0x200_85_hr/DzOLWEP06wg\" onerror=\"SF.errorImage(this)\" src=\"https://search1.kakaocdn.net/argon/0x200_85_hr/DzOLWEP06wg\" style=\"width:143px;height:200px\"/>,\n",
       " <img alt=\"무더위를 이기는 &amp;apos;여름 과일&amp;apos; 효능 \" class=\"thumb_img\" data-size=\"200x200\" data-src=\"https://search1.kakaocdn.net/argon/0x200_85_hr/25qtBVmMxcZ\" onerror=\"SF.errorImage(this)\" src=\"https://search1.kakaocdn.net/argon/0x200_85_hr/25qtBVmMxcZ\" style=\"width:200px;height:200px\"/>,\n",
       " <img alt=\"[TEN PHOTO] 헬로비너스 여름 &amp;apos;러블리 미모&amp;apos;\" class=\"thumb_img\" data-size=\"133x200\" data-src=\"https://search4.kakaocdn.net/argon/0x200_85_hr/Iuyj4l1aiyv\" onerror=\"SF.errorImage(this)\" src=\"https://search4.kakaocdn.net/argon/0x200_85_hr/Iuyj4l1aiyv\" style=\"width:133px;height:200px\"/>]"
      ]
     },
     "execution_count": 44,
     "metadata": {},
     "output_type": "execute_result"
    }
   ],
   "source": [
    "from selenium import webdriver\n",
    "from selenium.webdriver.chrome.service import Service\n",
    "from webdriver_manager.chrome import ChromeDriverManager\n",
    "from bs4 import BeautifulSoup as bs\n",
    "import requests, os\n",
    "from urllib.request import urlretrieve\n",
    "\n",
    "img_path = 'd:/img/'\n",
    "if not os.path.isdir(img_path):     \n",
    "    os.mkdir(img_path)\n",
    "\n",
    "keyword = '여름'\n",
    "driver = webdriver.Chrome(service=Service(ChromeDriverManager().install()))\n",
    "\n",
    "driver.get(f'https://search.daum.net/search?nil_suggest=btn&w=img&DA=SBC&q={keyword}')\n",
    "html = driver.page_source\n",
    "soup = bs(html,'html.parser')\n",
    "soup.select('img')"
   ]
  },
  {
   "cell_type": "code",
   "execution_count": 45,
   "id": "43b27a38",
   "metadata": {},
   "outputs": [
    {
     "data": {
      "text/plain": [
       "[<img alt=\"바쁜 여름 / 박성우\" class=\"thumb_img\" data-size=\"267x180\" data-src=\"https://search3.kakaocdn.net/argon/0x200_85_hr/3uILjBT09zf\" onerror=\"SF.errorImage(this)\" src=\"https://search3.kakaocdn.net/argon/0x200_85_hr/3uILjBT09zf\" style=\"width:271px;height:180px;margin-left:-1px\"/>]"
      ]
     },
     "execution_count": 45,
     "metadata": {},
     "output_type": "execute_result"
    }
   ],
   "source": [
    "images = soup.select('#imgList > div:nth-child(1) > a > img')\n",
    "images"
   ]
  },
  {
   "cell_type": "code",
   "execution_count": 46,
   "id": "9fe71ad2",
   "metadata": {},
   "outputs": [
    {
     "data": {
      "text/plain": [
       "[<img alt=\"바쁜 여름 / 박성우\" class=\"thumb_img\" data-size=\"267x180\" data-src=\"https://search3.kakaocdn.net/argon/0x200_85_hr/3uILjBT09zf\" onerror=\"SF.errorImage(this)\" src=\"https://search3.kakaocdn.net/argon/0x200_85_hr/3uILjBT09zf\" style=\"width:271px;height:180px;margin-left:-1px\"/>,\n",
       " <img alt=\"[ST포토]헬로비너스 여름 &amp;apos;물오른 미모&amp;apos;\" class=\"thumb_img\" data-size=\"107x180\" data-src=\"https://search2.kakaocdn.net/argon/0x200_85_hr/9C8n9ysmOMb\" onerror=\"SF.errorImage(this)\" src=\"https://search2.kakaocdn.net/argon/0x200_85_hr/9C8n9ysmOMb\" style=\"width:111px;height:180px;margin-left:-1px\"/>,\n",
       " <img alt=\"[ON포토] 헬로비너스 여름, &amp;apos;커다란 눈동자&amp;apos;\" class=\"thumb_img\" data-size=\"117x180\" data-src=\"https://search1.kakaocdn.net/argon/0x200_85_hr/CjH6pXpiSfq\" onerror=\"SF.errorImage(this)\" src=\"https://search1.kakaocdn.net/argon/0x200_85_hr/CjH6pXpiSfq\" style=\"width:121px;height:180px;margin-left:-1px\"/>,\n",
       " <img alt=\"여름\" class=\"thumb_img\" data-size=\"263x180\" data-src=\"https://search4.kakaocdn.net/argon/0x200_85_hr/6GipW7jP3cs\" onerror=\"SF.errorImage(this)\" src=\"https://search4.kakaocdn.net/argon/0x200_85_hr/6GipW7jP3cs\" style=\"width:266px;height:180px;margin-left:-1px\"/>,\n",
       " <img alt=\"&amp;quot;물오른 미모, 독보적 분위기..&amp;quot; 우주소녀 보나·여름\" class=\"thumb_img\" data-size=\"116x180\" data-src=\"https://search4.kakaocdn.net/argon/0x200_85_hr/4WuI2BcWoEs\" onerror=\"SF.errorImage(this)\" src=\"https://search4.kakaocdn.net/argon/0x200_85_hr/4WuI2BcWoEs\" style=\"width:120px;height:180px;margin-left:-1px\"/>,\n",
       " <img alt=\"여름 꽃\" class=\"thumb_img\" data-size=\"237x180\" data-src=\"https://search1.kakaocdn.net/argon/0x200_85_hr/1Xw0jocWSNq\" onerror=\"SF.errorImage(this)\" src=\"https://search1.kakaocdn.net/argon/0x200_85_hr/1Xw0jocWSNq\" style=\"width:240px;height:180px;margin-left:-1px\"/>,\n",
       " <img alt=\"여름 꽃\" class=\"thumb_img\" data-size=\"246x186\" data-src=\"https://search2.kakaocdn.net/argon/0x200_85_hr/GNtQExrYTN4\" onerror=\"SF.errorImage(this)\" src=\"https://search2.kakaocdn.net/argon/0x200_85_hr/GNtQExrYTN4\" style=\"width:248px;height:186px;margin-left:-0px\"/>,\n",
       " <img alt=\"여름 꽃\" class=\"thumb_img\" data-size=\"239x186\" data-src=\"https://search2.kakaocdn.net/argon/0x200_85_hr/2mffZjMu5PI\" onerror=\"SF.errorImage(this)\" src=\"https://search2.kakaocdn.net/argon/0x200_85_hr/2mffZjMu5PI\" style=\"width:249px;height:186px;margin-left:-4px\"/>,\n",
       " <img alt=\"[ST포토]헬로비너스 여름-서영 &amp;apos;점점 예뻐지네&amp;apos;\" class=\"thumb_img\" data-size=\"125x186\" data-src=\"https://search3.kakaocdn.net/argon/0x200_85_hr/B2dze8R35Jy\" onerror=\"SF.errorImage(this)\" src=\"https://search3.kakaocdn.net/argon/0x200_85_hr/B2dze8R35Jy\" style=\"width:127px;height:186px;margin-left:0px\"/>,\n",
       " <img alt=\"여름에 더 위험한 뇌졸중, &amp;apos;더위&amp;apos;가 무서운 이유\" class=\"thumb_img\" data-size=\"121x186\" data-src=\"https://search2.kakaocdn.net/argon/0x200_85_hr/5DuMWmpnglZ\" onerror=\"SF.errorImage(this)\" src=\"https://search2.kakaocdn.net/argon/0x200_85_hr/5DuMWmpnglZ\" style=\"width:124px;height:186px;margin-left:-1px\"/>,\n",
       " <img alt=\"자외선 차단을 위한 여름 필수품! 이건 꼭 챙기세요.\" class=\"thumb_img\" data-size=\"277x186\" data-src=\"https://search1.kakaocdn.net/argon/0x200_85_hr/AWHm58latUo\" onerror=\"SF.errorImage(this)\" src=\"https://search1.kakaocdn.net/argon/0x200_85_hr/AWHm58latUo\" style=\"width:279px;height:186px;margin-left:-0px\"/>,\n",
       " <img alt=\"[포토] 헬로비너스 여름 &amp;apos;깜찍발랄 연기 도전&amp;apos;\" class=\"thumb_img\" data-size=\"100x186\" data-src=\"https://search2.kakaocdn.net/argon/0x200_85_hr/Fu9QGcp4YWB\" onerror=\"SF.errorImage(this)\" src=\"https://search2.kakaocdn.net/argon/0x200_85_hr/Fu9QGcp4YWB\" style=\"width:103px;height:186px;margin-left:-1px\"/>,\n",
       " <img alt=\"여름축제 한국민속촌 &amp;apos;그해 시골 여름&amp;apos; 행사 안내\" class=\"thumb_img\" data-size=\"141x180\" data-src=\"https://search3.kakaocdn.net/argon/0x200_85_hr/5kNzDKyKCrF\" onerror=\"SF.errorImage(this)\" src=\"https://search3.kakaocdn.net/argon/0x200_85_hr/5kNzDKyKCrF\" style=\"width:144px;height:180px;margin-left:-1px\"/>,\n",
       " <img alt=\"여름, 속삭임\" class=\"thumb_img\" data-size=\"268x180\" data-src=\"https://search2.kakaocdn.net/argon/0x200_85_hr/JfrhDrgX1xr\" onerror=\"SF.errorImage(this)\" src=\"https://search2.kakaocdn.net/argon/0x200_85_hr/JfrhDrgX1xr\" style=\"width:271px;height:180px;margin-left:-1px\"/>,\n",
       " <img alt=\"[포토] 헬로비너스 여름 &amp;apos;비상식적인 롱다리 기럭지&amp;apos;\" class=\"thumb_img\" data-size=\"106x180\" data-src=\"https://search3.kakaocdn.net/argon/0x200_85_hr/7M18q2kyLm9\" onerror=\"SF.errorImage(this)\" src=\"https://search3.kakaocdn.net/argon/0x200_85_hr/7M18q2kyLm9\" style=\"width:109px;height:180px;margin-left:-1px\"/>,\n",
       " <img alt=\"헬로비너스 출신 라임·유영·여름, 활동명 변경→연기자로 새 출발(공식)\" class=\"thumb_img\" data-size=\"117x180\" data-src=\"https://search3.kakaocdn.net/argon/0x200_85_hr/1urWCmH9D1k\" onerror=\"SF.errorImage(this)\" src=\"https://search3.kakaocdn.net/argon/0x200_85_hr/1urWCmH9D1k\" style=\"width:120px;height:180px;margin-left:-1px\"/>,\n",
       " <img alt=\"[TD포토] 헬로비너스 여름-라임 &amp;apos;시선 끄는 화려한 패션&amp;apos;\" class=\"thumb_img\" data-size=\"117x180\" data-src=\"https://search4.kakaocdn.net/argon/0x200_85_hr/1Huexlkcrrh\" onerror=\"SF.errorImage(this)\" src=\"https://search4.kakaocdn.net/argon/0x200_85_hr/1Huexlkcrrh\" style=\"width:120px;height:180px;margin-left:-1px\"/>,\n",
       " <img alt=\"거리 두기의 여름..뒤라스 여름으로 위로\" class=\"thumb_img\" data-size=\"119x180\" data-src=\"https://search1.kakaocdn.net/argon/0x200_85_hr/j6l1Q0PUhb\" onerror=\"SF.errorImage(this)\" src=\"https://search1.kakaocdn.net/argon/0x200_85_hr/j6l1Q0PUhb\" style=\"width:122px;height:180px;margin-left:-1px\"/>,\n",
       " <img alt=\"여름바다\" class=\"thumb_img\" data-size=\"237x180\" data-src=\"https://search1.kakaocdn.net/argon/0x200_85_hr/4W8IqZjM1O6\" onerror=\"SF.errorImage(this)\" src=\"https://search1.kakaocdn.net/argon/0x200_85_hr/4W8IqZjM1O6\" style=\"width:240px;height:180px;margin-left:-1px\"/>,\n",
       " <img alt=\"[1분 Q&amp;amp;A] 여름에 포경수술 해도 되나요?\" class=\"thumb_img\" data-size=\"249x160\" data-src=\"https://search4.kakaocdn.net/argon/0x200_85_hr/AlBpNX2H6Mw\" onerror=\"SF.errorImage(this)\" src=\"https://search4.kakaocdn.net/argon/0x200_85_hr/AlBpNX2H6Mw\" style=\"width:251px;height:160px;margin-left:-0px\"/>,\n",
       " <img alt=\"헬로비너스 여름, 앙증맞은 하트\" class=\"thumb_img\" data-size=\"104x160\" data-src=\"https://search4.kakaocdn.net/argon/0x200_85_hr/8sqxc1jCwGW\" onerror=\"SF.errorImage(this)\" src=\"https://search4.kakaocdn.net/argon/0x200_85_hr/8sqxc1jCwGW\" style=\"width:106px;height:160px;margin-left:-0px\"/>,\n",
       " <img alt=\"여름, 속삭임\" class=\"thumb_img\" data-size=\"109x160\" data-src=\"https://search3.kakaocdn.net/argon/0x200_85_hr/4BsWNCxm6k5\" onerror=\"SF.errorImage(this)\" src=\"https://search3.kakaocdn.net/argon/0x200_85_hr/4BsWNCxm6k5\" style=\"width:112px;height:160px;margin-left:-1px\"/>,\n",
       " <img alt=\"여름 축제 일정\" class=\"thumb_img\" data-size=\"223x160\" data-src=\"https://search1.kakaocdn.net/argon/0x200_85_hr/6NGWfEQpgPL\" onerror=\"SF.errorImage(this)\" src=\"https://search1.kakaocdn.net/argon/0x200_85_hr/6NGWfEQpgPL\" style=\"width:226px;height:160px;margin-left:-1px\"/>,\n",
       " <img alt=\"여름새우난초, 꽃(정면)\" class=\"thumb_img\" data-size=\"153x160\" data-src=\"https://search3.kakaocdn.net/argon/0x200_85_hr/1iHG6B0KG8j\" onerror=\"SF.errorImage(this)\" src=\"https://search3.kakaocdn.net/argon/0x200_85_hr/1iHG6B0KG8j\" style=\"width:155px;height:160px;margin-left:-0px\"/>,\n",
       " <img alt=\"시원한 여름 이미지\" class=\"thumb_img\" data-size=\"270x160\" data-src=\"https://search3.kakaocdn.net/argon/0x200_85_hr/5cFS6g2trLo\" onerror=\"SF.errorImage(this)\" src=\"https://search3.kakaocdn.net/argon/0x200_85_hr/5cFS6g2trLo\" style=\"width:325px;height:160px;margin-left:-27px\"/>,\n",
       " <img alt=\"신한은행, 착한 여름나기 캠페인 열어\" class=\"thumb_img\" data-size=\"329x186\" data-src=\"https://search4.kakaocdn.net/argon/0x200_85_hr/4kdHyMn21CF\" onerror=\"SF.errorImage(this)\" src=\"https://search4.kakaocdn.net/argon/0x200_85_hr/4kdHyMn21CF\" style=\"width:331px;height:186px;margin-left:-0px\"/>,\n",
       " <img alt=\"헬로비너스 서영·여름, 오늘(30일) 신곡 &amp;lt;너에게 달려&amp;gt; 발표\" class=\"thumb_img\" data-size=\"183x186\" data-src=\"https://search2.kakaocdn.net/argon/0x200_85_hr/9GTMccEcsjD\" onerror=\"SF.errorImage(this)\" src=\"https://search2.kakaocdn.net/argon/0x200_85_hr/9GTMccEcsjD\" style=\"width:186px;height:186px;margin-left:-1px\"/>,\n",
       " <img alt=\"[포토] 헬로비너스 여름 &amp;apos;상상초월 초미니에 두손 꽉~&amp;apos;\" class=\"thumb_img\" data-size=\"135x186\" data-src=\"https://search2.kakaocdn.net/argon/0x200_85_hr/1Wjtd7f3f3\" onerror=\"SF.errorImage(this)\" src=\"https://search2.kakaocdn.net/argon/0x200_85_hr/1Wjtd7f3f3\" style=\"width:138px;height:186px;margin-left:-1px\"/>,\n",
       " <img alt=\"여름 사진\" class=\"thumb_img\" data-size=\"329x186\" data-src=\"https://search2.kakaocdn.net/argon/0x200_85_hr/4qbnEDb2eaE\" onerror=\"SF.errorImage(this)\" src=\"https://search2.kakaocdn.net/argon/0x200_85_hr/4qbnEDb2eaE\" style=\"width:331px;height:186px;margin-left:-0px\"/>,\n",
       " <img alt=\"여름에 어울리는 호러 소설 단편집 | YES24 채널예스\" class=\"thumb_img\" data-size=\"136x186\" data-src=\"https://search4.kakaocdn.net/argon/0x200_85_hr/KAXwl3Tasl\" onerror=\"SF.errorImage(this)\" src=\"https://search4.kakaocdn.net/argon/0x200_85_hr/KAXwl3Tasl\" style=\"width:140px;height:186px;margin-left:-1px\"/>,\n",
       " <img alt=\" *** 여름에 읽는 시 ***\" class=\"thumb_img\" data-size=\"287x192\" data-src=\"https://search3.kakaocdn.net/argon/0x200_85_hr/JH4RKjzCObL\" onerror=\"SF.errorImage(this)\" src=\"https://search3.kakaocdn.net/argon/0x200_85_hr/JH4RKjzCObL\" style=\"width:288px;height:192px;margin-left:-0px\"/>,\n",
       " <img alt=\"[새 책] 여름과 루비 외\" class=\"thumb_img\" data-size=\"130x192\" data-src=\"https://search4.kakaocdn.net/argon/0x200_85_hr/JXnqsZQd9UH\" onerror=\"SF.errorImage(this)\" src=\"https://search4.kakaocdn.net/argon/0x200_85_hr/JXnqsZQd9UH\" style=\"width:132px;height:192px;margin-left:-0px\"/>,\n",
       " <img alt=\"&amp;quot;올 여름 패션은 &amp;apos;크로셰&amp;apos;&amp;quot;\" class=\"thumb_img\" data-size=\"287x192\" data-src=\"https://search3.kakaocdn.net/argon/0x200_85_hr/EgClX2H6b3n\" onerror=\"SF.errorImage(this)\" src=\"https://search3.kakaocdn.net/argon/0x200_85_hr/EgClX2H6b3n\" style=\"width:288px;height:192px;margin-left:-0px\"/>,\n",
       " <img alt=\"카카오게임즈, &amp;apos;오딘&amp;apos; 등 자사 게임 4종에서 여름맞이 이벤트 실시\" class=\"thumb_img\" data-size=\"281x192\" data-src=\"https://search3.kakaocdn.net/argon/0x200_85_hr/G17cZqEmREY\" onerror=\"SF.errorImage(this)\" src=\"https://search3.kakaocdn.net/argon/0x200_85_hr/G17cZqEmREY\" style=\"width:281px;height:192px;margin-left:0px\"/>,\n",
       " <img alt=\"헬로비너스 여름\" class=\"thumb_img\" data-size=\"126x192\" data-src=\"https://search3.kakaocdn.net/argon/0x200_85_hr/KQRvtVir62V\" onerror=\"SF.errorImage(this)\" src=\"https://search3.kakaocdn.net/argon/0x200_85_hr/KQRvtVir62V\" style=\"width:128px;height:192px;margin-left:-0px\"/>,\n",
       " <img alt=\"여름바다\" class=\"thumb_img\" data-size=\"225x170\" data-src=\"https://search2.kakaocdn.net/argon/0x200_85_hr/4RkDpkHK8jd\" onerror=\"SF.errorImage(this)\" src=\"https://search2.kakaocdn.net/argon/0x200_85_hr/4RkDpkHK8jd\" style=\"width:227px;height:170px;margin-left:-0px\"/>,\n",
       " <img alt=\"여름\" class=\"thumb_img\" data-size=\"225x170\" data-src=\"https://search3.kakaocdn.net/argon/0x200_85_hr/HAKzws5eihT\" onerror=\"SF.errorImage(this)\" src=\"https://search3.kakaocdn.net/argon/0x200_85_hr/HAKzws5eihT\" style=\"width:227px;height:170px;margin-left:-0px\"/>,\n",
       " <img alt=\"스타벅스, 올 여름 시즌 음료 3종·푸드 4종 출시\" class=\"thumb_img\" data-size=\"167x170\" data-src=\"https://search2.kakaocdn.net/argon/0x200_85_hr/IgmTozfS285\" onerror=\"SF.errorImage(this)\" src=\"https://search2.kakaocdn.net/argon/0x200_85_hr/IgmTozfS285\" style=\"width:170px;height:170px;margin-left:-1px\"/>,\n",
       " <img alt=\"여름\" class=\"thumb_img\" data-size=\"225x170\" data-src=\"https://search3.kakaocdn.net/argon/0x200_85_hr/CPwjbggXVtM\" onerror=\"SF.errorImage(this)\" src=\"https://search3.kakaocdn.net/argon/0x200_85_hr/CPwjbggXVtM\" style=\"width:227px;height:170px;margin-left:-0px\"/>,\n",
       " <img alt=\"시원한 여름 이미지\" class=\"thumb_img\" data-size=\"270x170\" data-src=\"https://search4.kakaocdn.net/argon/0x200_85_hr/44RGpHnPAmM\" onerror=\"SF.errorImage(this)\" src=\"https://search4.kakaocdn.net/argon/0x200_85_hr/44RGpHnPAmM\" style=\"width:272px;height:170px;margin-left:-0px\"/>,\n",
       " <img alt=\"여름 환경판\" class=\"thumb_img\" data-size=\"197x186\" data-src=\"https://search3.kakaocdn.net/argon/0x200_85_hr/GN2gk8v7YUE\" onerror=\"SF.errorImage(this)\" src=\"https://search3.kakaocdn.net/argon/0x200_85_hr/GN2gk8v7YUE\" style=\"width:199px;height:186px;margin-left:-0px\"/>,\n",
       " <img alt=\"접속만 해도 &amp;apos;레어 프리즘&amp;apos;이.. 페그오, 여름 축제 캠페인 개최\" class=\"thumb_img\" data-size=\"265x186\" data-src=\"https://search4.kakaocdn.net/argon/0x200_85_hr/8LhfkhuIORk\" onerror=\"SF.errorImage(this)\" src=\"https://search4.kakaocdn.net/argon/0x200_85_hr/8LhfkhuIORk\" style=\"width:267px;height:186px;margin-left:-0px\"/>,\n",
       " <img alt=\"여름좀잠자리\" class=\"thumb_img\" data-size=\"257x186\" data-src=\"https://search2.kakaocdn.net/argon/0x200_85_hr/3vYG0kuIu2x\" onerror=\"SF.errorImage(this)\" src=\"https://search2.kakaocdn.net/argon/0x200_85_hr/3vYG0kuIu2x\" style=\"width:259px;height:186px;margin-left:-0px\"/>,\n",
       " <img alt=\"여름철 별자리\" class=\"thumb_img\" data-size=\"142x186\" data-src=\"https://search4.kakaocdn.net/argon/0x200_85_hr/LvmSp4ayvnk\" onerror=\"SF.errorImage(this)\" src=\"https://search4.kakaocdn.net/argon/0x200_85_hr/LvmSp4ayvnk\" style=\"width:145px;height:186px;margin-left:-1px\"/>,\n",
       " <img alt=\"신나는 여름축제\" class=\"thumb_img\" data-size=\"121x186\" data-src=\"https://search4.kakaocdn.net/argon/0x200_85_hr/JIs5coMB5XW\" onerror=\"SF.errorImage(this)\" src=\"https://search4.kakaocdn.net/argon/0x200_85_hr/JIs5coMB5XW\" style=\"width:124px;height:186px;margin-left:-1px\"/>,\n",
       " <img alt=\"무더운 여름(2019. 9. 4)\" class=\"thumb_img\" data-size=\"126x186\" data-src=\"https://search2.kakaocdn.net/argon/0x200_85_hr/8XtbIT3cSp8\" onerror=\"SF.errorImage(this)\" src=\"https://search2.kakaocdn.net/argon/0x200_85_hr/8XtbIT3cSp8\" style=\"width:128px;height:186px;margin-left:-0px\"/>,\n",
       " <img alt=\"[식물도감] 여름새우난초\" class=\"thumb_img\" data-size=\"108x168\" data-src=\"https://search3.kakaocdn.net/argon/0x200_85_hr/7DjVMVhMp4E\" onerror=\"SF.errorImage(this)\" src=\"https://search3.kakaocdn.net/argon/0x200_85_hr/7DjVMVhMp4E\" style=\"width:112px;height:168px;margin-left:-1px\"/>,\n",
       " <img alt=\"쿠팡, &amp;apos;여름 리빙페어&amp;apos;..현대리바트 등 유명 리빙 브랜드 대거 참여\" class=\"thumb_img\" data-size=\"407x168\" data-src=\"https://search3.kakaocdn.net/argon/0x200_85_hr/Ekbi9z8CyY9\" onerror=\"SF.errorImage(this)\" src=\"https://search3.kakaocdn.net/argon/0x200_85_hr/Ekbi9z8CyY9\" style=\"width:410px;height:168px;margin-left:-1px\"/>,\n",
       " <img alt=\"한빛 &amp;apos;에이카&amp;apos;, 다양한 보상 담은 여름나기 이벤트 시작\" class=\"thumb_img\" data-size=\"192x168\" data-src=\"https://search1.kakaocdn.net/argon/0x200_85_hr/6dHeUh16lZv\" onerror=\"SF.errorImage(this)\" src=\"https://search1.kakaocdn.net/argon/0x200_85_hr/6dHeUh16lZv\" style=\"width:196px;height:168px;margin-left:-1px\"/>,\n",
       " <img alt=\"헬로비너스 여름\" class=\"thumb_img\" data-size=\"108x168\" data-src=\"https://search4.kakaocdn.net/argon/0x200_85_hr/2rEn9RkpVmd\" onerror=\"SF.errorImage(this)\" src=\"https://search4.kakaocdn.net/argon/0x200_85_hr/2rEn9RkpVmd\" style=\"width:112px;height:168px;margin-left:-1px\"/>,\n",
       " <img alt=\"여름 사진\" class=\"thumb_img\" data-size=\"296x168\" data-src=\"https://search1.kakaocdn.net/argon/0x200_85_hr/BVXpHPXIfyR\" onerror=\"SF.errorImage(this)\" src=\"https://search1.kakaocdn.net/argon/0x200_85_hr/BVXpHPXIfyR\" style=\"width:299px;height:168px;margin-left:-1px\"/>,\n",
       " <img alt=\"역마살님의 이야기 211 - 여름 단상(斷想)-\" class=\"thumb_img\" data-size=\"288x194\" data-src=\"https://search3.kakaocdn.net/argon/0x200_85_hr/8MyuwSIpDql\" onerror=\"SF.errorImage(this)\" src=\"https://search3.kakaocdn.net/argon/0x200_85_hr/8MyuwSIpDql\" style=\"width:291px;height:194px;margin-left:-1px\"/>,\n",
       " <img alt=\"여름휴가 장소추천, 2016 여름휴가 올 여름엔 여기 TOP4 | 익스피디아 트래블 블로그\" class=\"thumb_img\" data-size=\"288x194\" data-src=\"https://search4.kakaocdn.net/argon/0x200_85_hr/6m7i6XMmoUB\" onerror=\"SF.errorImage(this)\" src=\"https://search4.kakaocdn.net/argon/0x200_85_hr/6m7i6XMmoUB\" style=\"width:291px;height:194px;margin-left:-1px\"/>,\n",
       " <img alt=\"스마일게이트, ‘마술양품점’ 여름맞이 업데이트 실시\" class=\"thumb_img\" data-size=\"197x194\" data-src=\"https://search1.kakaocdn.net/argon/0x200_85_hr/I5zHSojj6Qy\" onerror=\"SF.errorImage(this)\" src=\"https://search1.kakaocdn.net/argon/0x200_85_hr/I5zHSojj6Qy\" style=\"width:201px;height:194px;margin-left:-1px\"/>,\n",
       " <img alt=\"백야극광, 여름 이벤트 &amp;apos;해신제·여름의 꿈&amp;apos; 실시\" class=\"thumb_img\" data-size=\"342x194\" data-src=\"https://search2.kakaocdn.net/argon/0x200_85_hr/7KaGp7M8VVz\" onerror=\"SF.errorImage(this)\" src=\"https://search2.kakaocdn.net/argon/0x200_85_hr/7KaGp7M8VVz\" style=\"width:345px;height:194px;margin-left:-1px\"/>,\n",
       " <img alt=\"서울식물원 운영시간 여름나기 총정리\" class=\"thumb_img\" data-size=\"254x170\" data-src=\"https://search1.kakaocdn.net/argon/0x200_85_hr/FnhSoXwZiVH\" onerror=\"SF.errorImage(this)\" src=\"https://search1.kakaocdn.net/argon/0x200_85_hr/FnhSoXwZiVH\" style=\"width:257px;height:170px;margin-left:-1px\"/>,\n",
       " <img alt=\"여름 - 징검다리\" class=\"thumb_img\" data-size=\"131x170\" data-src=\"https://search1.kakaocdn.net/argon/0x200_85_hr/JgK9EslyZGt\" onerror=\"SF.errorImage(this)\" src=\"https://search1.kakaocdn.net/argon/0x200_85_hr/JgK9EslyZGt\" style=\"width:134px;height:170px;margin-left:-1px\"/>,\n",
       " <img alt=\"국립백두대간수목원 주최 &amp;apos;여름 봉자페스티벌&amp;apos; 개막\" class=\"thumb_img\" data-size=\"117x170\" data-src=\"https://search4.kakaocdn.net/argon/0x200_85_hr/Diq0azjL62y\" onerror=\"SF.errorImage(this)\" src=\"https://search4.kakaocdn.net/argon/0x200_85_hr/Diq0azjL62y\" style=\"width:121px;height:170px;margin-left:-1px\"/>,\n",
       " <img alt=\"롯데주류 &amp;apos;클라우드&amp;apos;, 부산·양양서 여름 이벤트\" class=\"thumb_img\" data-size=\"253x170\" data-src=\"https://search3.kakaocdn.net/argon/0x200_85_hr/H1k15MPKcA6\" onerror=\"SF.errorImage(this)\" src=\"https://search3.kakaocdn.net/argon/0x200_85_hr/H1k15MPKcA6\" style=\"width:256px;height:170px;margin-left:-1px\"/>,\n",
       " <img alt=\"헬로비너스 여름 원피스 몸매\" class=\"thumb_img\" data-size=\"93x170\" data-src=\"https://search2.kakaocdn.net/argon/0x200_85_hr/Ek67o6uXmHY\" onerror=\"SF.errorImage(this)\" src=\"https://search2.kakaocdn.net/argon/0x200_85_hr/Ek67o6uXmHY\" style=\"width:96px;height:170px;margin-left:-1px\"/>,\n",
       " <img alt=\"여름 축제 일정\" class=\"thumb_img\" data-size=\"260x170\" data-src=\"https://search4.kakaocdn.net/argon/0x200_85_hr/6eUOzPgTVPd\" onerror=\"SF.errorImage(this)\" src=\"https://search4.kakaocdn.net/argon/0x200_85_hr/6eUOzPgTVPd\" style=\"width:263px;height:170px;margin-left:-1px\"/>,\n",
       " <img alt=\"여름휴가 시즌, 할인 게임을 만나자!\" class=\"thumb_img\" data-size=\"333x170\" data-src=\"https://search4.kakaocdn.net/argon/0x200_85_hr/K1iQ3ouP9gK\" onerror=\"SF.errorImage(this)\" src=\"https://search4.kakaocdn.net/argon/0x200_85_hr/K1iQ3ouP9gK\" style=\"width:335px;height:170px;margin-left:-0px\"/>,\n",
       " <img alt=\"고통받는 헬로비너스 여름이\" class=\"thumb_img\" data-size=\"133x170\" data-src=\"https://search4.kakaocdn.net/argon/0x200_85_hr/ClRBRmXmoTv\" onerror=\"SF.errorImage(this)\" src=\"https://search4.kakaocdn.net/argon/0x200_85_hr/ClRBRmXmoTv\" style=\"width:136px;height:170px;margin-left:-1px\"/>,\n",
       " <img alt=\"헤지스키즈, 테니스 감성 여름 컬렉션 출시\" class=\"thumb_img\" data-size=\"253x170\" data-src=\"https://search3.kakaocdn.net/argon/0x200_85_hr/IK2RcDSG7ql\" onerror=\"SF.errorImage(this)\" src=\"https://search3.kakaocdn.net/argon/0x200_85_hr/IK2RcDSG7ql\" style=\"width:255px;height:170px;margin-left:-0px\"/>,\n",
       " <img alt=\"여름철 별미 열무 효능 보관법\" class=\"thumb_img\" data-size=\"167x170\" data-src=\"https://search1.kakaocdn.net/argon/0x200_85_hr/1rebgICR7fA\" onerror=\"SF.errorImage(this)\" src=\"https://search1.kakaocdn.net/argon/0x200_85_hr/1rebgICR7fA\" style=\"width:170px;height:170px;margin-left:-1px\"/>,\n",
       " <img alt=\"여름꽃\" class=\"thumb_img\" data-size=\"225x170\" data-src=\"https://search2.kakaocdn.net/argon/0x200_85_hr/BUQo8dBooOd\" onerror=\"SF.errorImage(this)\" src=\"https://search2.kakaocdn.net/argon/0x200_85_hr/BUQo8dBooOd\" style=\"width:227px;height:170px;margin-left:-0px\"/>,\n",
       " <img alt=\"그해 여름\" class=\"thumb_img\" data-size=\"149x190\" data-src=\"https://search1.kakaocdn.net/argon/0x200_85_hr/2eiuyRkxd8K\" onerror=\"SF.errorImage(this)\" src=\"https://search1.kakaocdn.net/argon/0x200_85_hr/2eiuyRkxd8K\" style=\"width:152px;height:190px;margin-left:-1px\"/>,\n",
       " <img alt=\"여름철 별자리 - 여름의 대삼각형 견우직녀성 그리스신화\" class=\"thumb_img\" data-size=\"194x190\" data-src=\"https://search2.kakaocdn.net/argon/0x200_85_hr/8GfpNHJnjI1\" onerror=\"SF.errorImage(this)\" src=\"https://search2.kakaocdn.net/argon/0x200_85_hr/8GfpNHJnjI1\" style=\"width:197px;height:190px;margin-left:-1px\"/>,\n",
       " <img alt=\"블루포션게임즈, &amp;apos;에오스&amp;apos; 여름맞이 대규모 이벤트 진행\" class=\"thumb_img\" data-size=\"488x190\" data-src=\"https://search4.kakaocdn.net/argon/0x200_85_hr/4lZvdz5c7ta\" onerror=\"SF.errorImage(this)\" src=\"https://search4.kakaocdn.net/argon/0x200_85_hr/4lZvdz5c7ta\" style=\"width:489px;height:190px;margin-left:-0px\"/>,\n",
       " <img alt=\"여름날 / 김사인\" class=\"thumb_img\" data-size=\"283x190\" data-src=\"https://search1.kakaocdn.net/argon/0x200_85_hr/749pnlQU8UF\" onerror=\"SF.errorImage(this)\" src=\"https://search1.kakaocdn.net/argon/0x200_85_hr/749pnlQU8UF\" style=\"width:285px;height:190px;margin-left:-0px\"/>,\n",
       " <img alt=\"여름매실 동치미\" class=\"thumb_img\" data-size=\"229x172\" data-src=\"https://search1.kakaocdn.net/argon/0x200_85_hr/7FiMHFxffVK\" onerror=\"SF.errorImage(this)\" src=\"https://search1.kakaocdn.net/argon/0x200_85_hr/7FiMHFxffVK\" style=\"width:230px;height:172px;margin-left:-0px\"/>,\n",
       " <img alt=\"여름\" class=\"thumb_img\" data-size=\"257x172\" data-src=\"https://search3.kakaocdn.net/argon/0x200_85_hr/6f138IW0LAY\" onerror=\"SF.errorImage(this)\" src=\"https://search3.kakaocdn.net/argon/0x200_85_hr/6f138IW0LAY\" style=\"width:258px;height:172px;margin-left:-0px\"/>,\n",
       " <img alt=\"올 여름, 평년보다 무더운 시작 &amp;apos;6·7·8월 날씨는?&amp;apos;\" class=\"thumb_img\" data-size=\"297x172\" data-src=\"https://search1.kakaocdn.net/argon/0x200_85_hr/EPQuNtGBsLP\" onerror=\"SF.errorImage(this)\" src=\"https://search1.kakaocdn.net/argon/0x200_85_hr/EPQuNtGBsLP\" style=\"width:298px;height:172px;margin-left:-0px\"/>,\n",
       " <img alt=\"넷마블 &amp;apos;페이트/그랜드 오더&amp;apos;, 여름 축제 캠페인 실시\" class=\"thumb_img\" data-size=\"331x172\" data-src=\"https://search4.kakaocdn.net/argon/0x200_85_hr/3KuziQ32XPT\" onerror=\"SF.errorImage(this)\" src=\"https://search4.kakaocdn.net/argon/0x200_85_hr/3KuziQ32XPT\" style=\"width:331px;height:172px;margin-left:--1px\"/>,\n",
       " <img alt=\"끝나지 않은 여름\" class=\"thumb_img\" data-size=\"116x164\" data-src=\"https://search1.kakaocdn.net/argon/0x200_85_hr/8N3n1U4WX9U\" onerror=\"SF.errorImage(this)\" src=\"https://search1.kakaocdn.net/argon/0x200_85_hr/8N3n1U4WX9U\" style=\"width:116px;height:164px\"/>,\n",
       " <img alt=\"여름 과일 효능\" class=\"thumb_img\" data-size=\"200x200\" data-src=\"https://search1.kakaocdn.net/argon/0x200_85_hr/5MWH2Sw8Yqw\" onerror=\"SF.errorImage(this)\" src=\"https://search1.kakaocdn.net/argon/0x200_85_hr/5MWH2Sw8Yqw\" style=\"width:200px;height:200px\"/>,\n",
       " <img alt=\"[스크랩] 여름\" class=\"thumb_img\" data-size=\"149x200\" data-src=\"https://search2.kakaocdn.net/argon/0x200_85_hr/JzdMfXrxFMx\" onerror=\"SF.errorImage(this)\" src=\"https://search2.kakaocdn.net/argon/0x200_85_hr/JzdMfXrxFMx\" style=\"width:149px;height:200px\"/>,\n",
       " <img alt=\"여름 동물원\" class=\"thumb_img\" data-size=\"143x200\" data-src=\"https://search1.kakaocdn.net/argon/0x200_85_hr/DzOLWEP06wg\" onerror=\"SF.errorImage(this)\" src=\"https://search1.kakaocdn.net/argon/0x200_85_hr/DzOLWEP06wg\" style=\"width:143px;height:200px\"/>,\n",
       " <img alt=\"무더위를 이기는 &amp;apos;여름 과일&amp;apos; 효능 \" class=\"thumb_img\" data-size=\"200x200\" data-src=\"https://search1.kakaocdn.net/argon/0x200_85_hr/25qtBVmMxcZ\" onerror=\"SF.errorImage(this)\" src=\"https://search1.kakaocdn.net/argon/0x200_85_hr/25qtBVmMxcZ\" style=\"width:200px;height:200px\"/>,\n",
       " <img alt=\"[TEN PHOTO] 헬로비너스 여름 &amp;apos;러블리 미모&amp;apos;\" class=\"thumb_img\" data-size=\"133x200\" data-src=\"https://search4.kakaocdn.net/argon/0x200_85_hr/Iuyj4l1aiyv\" onerror=\"SF.errorImage(this)\" src=\"https://search4.kakaocdn.net/argon/0x200_85_hr/Iuyj4l1aiyv\" style=\"width:133px;height:200px\"/>]"
      ]
     },
     "execution_count": 46,
     "metadata": {},
     "output_type": "execute_result"
    }
   ],
   "source": [
    "images = soup.select('div.wrap_thumb>a>img')\n",
    "images"
   ]
  },
  {
   "cell_type": "code",
   "execution_count": 47,
   "id": "670f4c1f",
   "metadata": {},
   "outputs": [],
   "source": [
    "imgNum = 1\n",
    "\n",
    "for i in images:\n",
    "    img_src1 = i['src']\n",
    "    save=img_path + str(imgNum)  +'.jpg'\n",
    "    urlretrieve(img_src1,save)\n",
    "    imgNum += 1"
   ]
  },
  {
   "cell_type": "code",
   "execution_count": 48,
   "id": "372bbe3f",
   "metadata": {},
   "outputs": [],
   "source": [
    "driver.close()"
   ]
  },
  {
   "cell_type": "code",
   "execution_count": null,
   "id": "690c2772",
   "metadata": {},
   "outputs": [],
   "source": []
  }
 ],
 "metadata": {
  "kernelspec": {
   "display_name": "Python 3 (ipykernel)",
   "language": "python",
   "name": "python3"
  },
  "language_info": {
   "codemirror_mode": {
    "name": "ipython",
    "version": 3
   },
   "file_extension": ".py",
   "mimetype": "text/x-python",
   "name": "python",
   "nbconvert_exporter": "python",
   "pygments_lexer": "ipython3",
   "version": "3.10.4"
  }
 },
 "nbformat": 4,
 "nbformat_minor": 5
}
