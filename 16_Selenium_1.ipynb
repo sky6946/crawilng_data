{
 "cells": [
  {
   "cell_type": "code",
   "execution_count": 6,
   "id": "70b6dfd7",
   "metadata": {},
   "outputs": [
    {
     "name": "stderr",
     "output_type": "stream",
     "text": [
      "C:\\Users\\ssong\\AppData\\Local\\Temp\\ipykernel_19636\\3616335301.py:3: DeprecationWarning: executable_path has been deprecated, please pass in a Service object\n",
      "  driver = webdriver.Chrome('d:\\home\\chromedriver.exe')\n"
     ]
    }
   ],
   "source": [
    "from selenium import webdriver\n",
    "\n",
    "driver = webdriver.Chrome('d:\\home\\chromedriver.exe')\n",
    "\n",
    "driver.get('http://www.google.com')"
   ]
  },
  {
   "cell_type": "code",
   "execution_count": 5,
   "id": "e24e583b",
   "metadata": {},
   "outputs": [],
   "source": [
    "driver.close()"
   ]
  }
 ],
 "metadata": {
  "kernelspec": {
   "display_name": "Python 3.10.4 64-bit",
   "language": "python",
   "name": "python3"
  },
  "language_info": {
   "codemirror_mode": {
    "name": "ipython",
    "version": 3
   },
   "file_extension": ".py",
   "mimetype": "text/x-python",
   "name": "python",
   "nbconvert_exporter": "python",
   "pygments_lexer": "ipython3",
   "version": "3.10.4"
  },
  "vscode": {
   "interpreter": {
    "hash": "4ae0e5bc6173d00f17877fcc72698983beb25e1e91ddb25333d811e0f3f2a0ca"
   }
  }
 },
 "nbformat": 4,
 "nbformat_minor": 5
}
